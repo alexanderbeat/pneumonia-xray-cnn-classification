{
  "nbformat": 4,
  "nbformat_minor": 0,
  "metadata": {
    "kernelspec": {
      "display_name": "Python 3",
      "language": "python",
      "name": "python3"
    },
    "language_info": {
      "codemirror_mode": {
        "name": "ipython",
        "version": 3
      },
      "file_extension": ".py",
      "mimetype": "text/x-python",
      "name": "python",
      "nbconvert_exporter": "python",
      "pygments_lexer": "ipython3",
      "version": "3.6.7"
    },
    "colab": {
      "name": "ALEX_BEAT_v2.1mod4project_notebook.ipynb",
      "provenance": [],
      "collapsed_sections": [
        "xz8ntdxLyW2c"
      ],
      "toc_visible": true,
      "include_colab_link": true
    },
    "accelerator": "GPU"
  },
  "cells": [
    {
      "cell_type": "markdown",
      "metadata": {
        "id": "view-in-github",
        "colab_type": "text"
      },
      "source": [
        "<a href=\"https://colab.research.google.com/github/alexanderjohnny/dsc-mod-4-project-v2-1-online-ds-pt-100719/blob/master/ALEX_BEAT_v2_1mod4project_notebook.ipynb\" target=\"_parent\"><img src=\"https://colab.research.google.com/assets/colab-badge.svg\" alt=\"Open In Colab\"/></a>"
      ]
    },
    {
      "cell_type": "markdown",
      "metadata": {
        "id": "InclPflMXvZ1",
        "colab_type": "text"
      },
      "source": [
        "COLAB PREP STUFF"
      ]
    },
    {
      "cell_type": "markdown",
      "metadata": {
        "id": "cMMdd93Df0_n",
        "colab_type": "text"
      },
      "source": [
        "Colab zip file working code used to speed up image processing is obtained from this blog: https://medium.com/datadriveninvestor/speed-up-your-image-training-on-google-colab-dc95ea1491cf"
      ]
    },
    {
      "cell_type": "code",
      "metadata": {
        "id": "qVAJAUjGHpOn",
        "colab_type": "code",
        "colab": {
          "base_uri": "https://localhost:8080/",
          "height": 156
        },
        "outputId": "c14267d9-d48f-4482-b819-e6b78917d896"
      },
      "source": [
        "from google.colab import drive\n",
        "drive.mount('/content/drive', force_remount=True)\n",
        "\n",
        "%cd ~\n",
        "%cd .."
      ],
      "execution_count": 1,
      "outputs": [
        {
          "output_type": "stream",
          "text": [
            "Go to this URL in a browser: https://accounts.google.com/o/oauth2/auth?client_id=947318989803-6bn6qk8qdgf4n4g3pfee6491hc0brc4i.apps.googleusercontent.com&redirect_uri=urn%3aietf%3awg%3aoauth%3a2.0%3aoob&response_type=code&scope=email%20https%3a%2f%2fwww.googleapis.com%2fauth%2fdocs.test%20https%3a%2f%2fwww.googleapis.com%2fauth%2fdrive%20https%3a%2f%2fwww.googleapis.com%2fauth%2fdrive.photos.readonly%20https%3a%2f%2fwww.googleapis.com%2fauth%2fpeopleapi.readonly\n",
            "\n",
            "Enter your authorization code:\n",
            "··········\n",
            "Mounted at /content/drive\n",
            "/root\n",
            "/\n"
          ],
          "name": "stdout"
        }
      ]
    },
    {
      "cell_type": "code",
      "metadata": {
        "id": "P7tGSw_oVzP3",
        "colab_type": "code",
        "colab": {
          "base_uri": "https://localhost:8080/",
          "height": 51
        },
        "outputId": "9a8b9e39-c94f-4422-bfe1-b516a7c1de39"
      },
      "source": [
        "import os,glob\n",
        "\n",
        "print(os.path.abspath(os.curdir))\n",
        "\n",
        "source_folder = r'content/drive/My Drive/Datasets/'\n",
        "\n",
        "file = glob.glob(source_folder+'xray.zip',recursive=True)[0]\n",
        "file"
      ],
      "execution_count": 2,
      "outputs": [
        {
          "output_type": "stream",
          "text": [
            "/\n"
          ],
          "name": "stdout"
        },
        {
          "output_type": "execute_result",
          "data": {
            "text/plain": [
              "'content/drive/My Drive/Datasets/xray.zip'"
            ]
          },
          "metadata": {
            "tags": []
          },
          "execution_count": 2
        }
      ]
    },
    {
      "cell_type": "code",
      "metadata": {
        "id": "IjfEc304WB0u",
        "colab_type": "code",
        "colab": {}
      },
      "source": [
        "zip_path = file\n",
        "\n",
        "!cp \"{zip_path}\" .\n",
        "\n",
        "!unzip -q xray.zip\n",
        "!rm xray.zip"
      ],
      "execution_count": 3,
      "outputs": []
    },
    {
      "cell_type": "code",
      "metadata": {
        "id": "bkZicl01WEoO",
        "colab_type": "code",
        "colab": {
          "base_uri": "https://localhost:8080/",
          "height": 527
        },
        "outputId": "227c25a4-57bc-440e-df83-1e297d005612"
      },
      "source": [
        "import os,glob\n",
        "print(os.path.abspath(os.curdir))\n",
        "os.listdir()\n"
      ],
      "execution_count": 4,
      "outputs": [
        {
          "output_type": "stream",
          "text": [
            "/\n"
          ],
          "name": "stdout"
        },
        {
          "output_type": "execute_result",
          "data": {
            "text/plain": [
              "['home',\n",
              " 'tmp',\n",
              " 'dev',\n",
              " 'srv',\n",
              " 'boot',\n",
              " 'sys',\n",
              " 'run',\n",
              " 'lib64',\n",
              " 'media',\n",
              " 'bin',\n",
              " 'usr',\n",
              " 'mnt',\n",
              " 'var',\n",
              " 'sbin',\n",
              " 'lib',\n",
              " 'proc',\n",
              " 'etc',\n",
              " 'opt',\n",
              " 'root',\n",
              " 'xray',\n",
              " 'content',\n",
              " '.dockerenv',\n",
              " 'tools',\n",
              " 'datalab',\n",
              " 'swift',\n",
              " 'dlib-19.18.0-cp27-cp27mu-linux_x86_64.whl',\n",
              " 'tensorflow-1.15.2',\n",
              " 'dlib-19.18.0-cp36-cp36m-linux_x86_64.whl',\n",
              " 'lib32']"
            ]
          },
          "metadata": {
            "tags": []
          },
          "execution_count": 4
        }
      ]
    },
    {
      "cell_type": "markdown",
      "metadata": {
        "id": "JILuvObhGJu-",
        "colab_type": "text"
      },
      "source": [
        "# Mod 4 Project - Image Classification\n",
        "\n",
        "* Student name: Alex Beat\n",
        "* Student pace: part time\n",
        "* Scheduled project review date/time: 06/24/20 @12pm pacific\n",
        "* Instructor name: James Irving\n",
        "* Blog post URL: NA"
      ]
    },
    {
      "cell_type": "markdown",
      "metadata": {
        "id": "5yNKgJn4X97-",
        "colab_type": "text"
      },
      "source": [
        "# Intro"
      ]
    },
    {
      "cell_type": "markdown",
      "metadata": {
        "id": "L82wyLOxY_2H",
        "colab_type": "text"
      },
      "source": [
        "* Problem: Build a model that can classify whether a given patient has pneumonia, given a chest x-ray image.\n",
        "* Audience: Medical business, imaging labs. \n",
        "* Business Questions: How can a successful model help save medical professionals time, money and promote better accuracy in patient diagnosis. "
      ]
    },
    {
      "cell_type": "markdown",
      "metadata": {
        "id": "j8el6CF1aHir",
        "colab_type": "text"
      },
      "source": [
        "## Content\n",
        "The dataset is organized into 3 folders (train, test, val) and contains subfolders for each image category (Pneumonia/Normal). There are 5,863 X-Ray images (JPEG) and 2 categories (Pneumonia/Normal).\n",
        "\n",
        "Chest X-ray images (anterior-posterior) were selected from retrospective cohorts of pediatric patients of one to five years old from Guangzhou Women and Children’s Medical Center, Guangzhou. All chest X-ray imaging was performed as part of patients’ routine clinical care.\n",
        "\n",
        "For the analysis of chest x-ray images, all chest radiographs were initially screened for quality control by removing all low quality or unreadable scans. The diagnoses for the images were then graded by two expert physicians before being cleared for training the AI system. In order to account for any grading errors, the evaluation set was also checked by a third expert.\n",
        "\n",
        "(Content info and dataset provided by Paul Mooney on Kaggle: https://www.kaggle.com/paultimothymooney/chest-xray-pneumonia?)"
      ]
    },
    {
      "cell_type": "markdown",
      "metadata": {
        "id": "9z81B-FVX7L3",
        "colab_type": "text"
      },
      "source": [
        "# Step 1: Load the Data"
      ]
    },
    {
      "cell_type": "code",
      "metadata": {
        "id": "H6e24655bfhf",
        "colab_type": "code",
        "colab": {
          "base_uri": "https://localhost:8080/",
          "height": 238
        },
        "outputId": "b63a540f-ebba-4597-e43d-4c4b6361599b"
      },
      "source": [
        "!pip install -U fsds_100719\n",
        "from fsds_100719.imports import *\n"
      ],
      "execution_count": 5,
      "outputs": [
        {
          "output_type": "stream",
          "text": [
            "fsds_1007219  v0.7.22 loaded.  Read the docs: https://fsds.readthedocs.io/en/latest/ \n"
          ],
          "name": "stdout"
        },
        {
          "output_type": "display_data",
          "data": {
            "text/html": [
              "<style  type=\"text/css\" >\n",
              "</style><table id=\"T_7f77b804_b64a_11ea_bf2b_0242ac1c0002\" ><caption>Loaded Packages and Handles</caption><thead>    <tr>        <th class=\"col_heading level0 col0\" >Handle</th>        <th class=\"col_heading level0 col1\" >Package</th>        <th class=\"col_heading level0 col2\" >Description</th>    </tr></thead><tbody>\n",
              "                <tr>\n",
              "                                <td id=\"T_7f77b804_b64a_11ea_bf2b_0242ac1c0002row0_col0\" class=\"data row0 col0\" >dp</td>\n",
              "                        <td id=\"T_7f77b804_b64a_11ea_bf2b_0242ac1c0002row0_col1\" class=\"data row0 col1\" >IPython.display</td>\n",
              "                        <td id=\"T_7f77b804_b64a_11ea_bf2b_0242ac1c0002row0_col2\" class=\"data row0 col2\" >Display modules with helpful display and clearing commands.</td>\n",
              "            </tr>\n",
              "            <tr>\n",
              "                                <td id=\"T_7f77b804_b64a_11ea_bf2b_0242ac1c0002row1_col0\" class=\"data row1 col0\" >fs</td>\n",
              "                        <td id=\"T_7f77b804_b64a_11ea_bf2b_0242ac1c0002row1_col1\" class=\"data row1 col1\" >fsds_100719</td>\n",
              "                        <td id=\"T_7f77b804_b64a_11ea_bf2b_0242ac1c0002row1_col2\" class=\"data row1 col2\" >Custom data science bootcamp student package</td>\n",
              "            </tr>\n",
              "            <tr>\n",
              "                                <td id=\"T_7f77b804_b64a_11ea_bf2b_0242ac1c0002row2_col0\" class=\"data row2 col0\" >mpl</td>\n",
              "                        <td id=\"T_7f77b804_b64a_11ea_bf2b_0242ac1c0002row2_col1\" class=\"data row2 col1\" >matplotlib</td>\n",
              "                        <td id=\"T_7f77b804_b64a_11ea_bf2b_0242ac1c0002row2_col2\" class=\"data row2 col2\" >Matplotlib's base OOP module with formatting artists</td>\n",
              "            </tr>\n",
              "            <tr>\n",
              "                                <td id=\"T_7f77b804_b64a_11ea_bf2b_0242ac1c0002row3_col0\" class=\"data row3 col0\" >plt</td>\n",
              "                        <td id=\"T_7f77b804_b64a_11ea_bf2b_0242ac1c0002row3_col1\" class=\"data row3 col1\" >matplotlib.pyplot</td>\n",
              "                        <td id=\"T_7f77b804_b64a_11ea_bf2b_0242ac1c0002row3_col2\" class=\"data row3 col2\" >Matplotlib's matlab-like plotting module</td>\n",
              "            </tr>\n",
              "            <tr>\n",
              "                                <td id=\"T_7f77b804_b64a_11ea_bf2b_0242ac1c0002row4_col0\" class=\"data row4 col0\" >np</td>\n",
              "                        <td id=\"T_7f77b804_b64a_11ea_bf2b_0242ac1c0002row4_col1\" class=\"data row4 col1\" >numpy</td>\n",
              "                        <td id=\"T_7f77b804_b64a_11ea_bf2b_0242ac1c0002row4_col2\" class=\"data row4 col2\" >scientific computing with Python</td>\n",
              "            </tr>\n",
              "            <tr>\n",
              "                                <td id=\"T_7f77b804_b64a_11ea_bf2b_0242ac1c0002row5_col0\" class=\"data row5 col0\" >pd</td>\n",
              "                        <td id=\"T_7f77b804_b64a_11ea_bf2b_0242ac1c0002row5_col1\" class=\"data row5 col1\" >pandas</td>\n",
              "                        <td id=\"T_7f77b804_b64a_11ea_bf2b_0242ac1c0002row5_col2\" class=\"data row5 col2\" >High performance data structures and tools</td>\n",
              "            </tr>\n",
              "            <tr>\n",
              "                                <td id=\"T_7f77b804_b64a_11ea_bf2b_0242ac1c0002row6_col0\" class=\"data row6 col0\" >sns</td>\n",
              "                        <td id=\"T_7f77b804_b64a_11ea_bf2b_0242ac1c0002row6_col1\" class=\"data row6 col1\" >seaborn</td>\n",
              "                        <td id=\"T_7f77b804_b64a_11ea_bf2b_0242ac1c0002row6_col2\" class=\"data row6 col2\" >High-level data visualization library based on matplotlib</td>\n",
              "            </tr>\n",
              "    </tbody></table>"
            ],
            "text/plain": [
              "<pandas.io.formats.style.Styler at 0x7f8889bf8a58>"
            ]
          },
          "metadata": {
            "tags": []
          }
        },
        {
          "output_type": "display_data",
          "data": {
            "text/html": [
              "        <script type=\"text/javascript\">\n",
              "        window.PlotlyConfig = {MathJaxConfig: 'local'};\n",
              "        if (window.MathJax) {MathJax.Hub.Config({SVG: {font: \"STIX-Web\"}});}\n",
              "        if (typeof require !== 'undefined') {\n",
              "        require.undef(\"plotly\");\n",
              "        requirejs.config({\n",
              "            paths: {\n",
              "                'plotly': ['https://cdn.plot.ly/plotly-latest.min']\n",
              "            }\n",
              "        });\n",
              "        require(['plotly'], function(Plotly) {\n",
              "            window._Plotly = Plotly;\n",
              "        });\n",
              "        }\n",
              "        </script>\n",
              "        "
            ]
          },
          "metadata": {
            "tags": []
          }
        },
        {
          "output_type": "stream",
          "text": [
            "[i] Pandas .iplot() method activated.\n"
          ],
          "name": "stdout"
        }
      ]
    },
    {
      "cell_type": "code",
      "metadata": {
        "id": "KBSYcNGhY3bi",
        "colab_type": "code",
        "colab": {}
      },
      "source": [
        "np.random.seed(111)\n"
      ],
      "execution_count": 6,
      "outputs": []
    },
    {
      "cell_type": "code",
      "metadata": {
        "id": "-bp4Ypx0O9Wo",
        "colab_type": "code",
        "colab": {
          "base_uri": "https://localhost:8080/",
          "height": 34
        },
        "outputId": "f818f0da-7783-4636-b446-baf5917b8b8d"
      },
      "source": [
        "\n",
        "import pandas as pd\n",
        "from PIL import Image\n",
        "import matplotlib.pyplot as plt\n",
        "%matplotlib inline\n",
        "import keras\n",
        "from keras.preprocessing.image import ImageDataGenerator, array_to_img, img_to_array, load_img\n",
        "import numpy as np\n",
        "from keras.models import Sequential\n",
        "from keras.layers import Dense"
      ],
      "execution_count": 7,
      "outputs": [
        {
          "output_type": "stream",
          "text": [
            "Using TensorFlow backend.\n"
          ],
          "name": "stderr"
        }
      ]
    },
    {
      "cell_type": "code",
      "metadata": {
        "id": "YdIQYpplGJvB",
        "colab_type": "code",
        "colab": {}
      },
      "source": [
        "# Necessary libraries and classes\n",
        "\n",
        "import pandas as pd\n",
        "from sklearn.model_selection import train_test_split\n",
        "from sklearn.preprocessing import StandardScaler, OneHotEncoder\n",
        "from sklearn.impute import SimpleImputer\n",
        "from sklearn.metrics import mean_squared_error\n",
        "from sklearn.model_selection import cross_val_predict\n",
        "from keras import models\n",
        "from keras import layers\n",
        "from keras import regularizers\n",
        "from keras.wrappers.scikit_learn import KerasRegressor"
      ],
      "execution_count": 8,
      "outputs": []
    },
    {
      "cell_type": "markdown",
      "metadata": {
        "id": "sO8V5DzKGJv8",
        "colab_type": "text"
      },
      "source": [
        "# Step 2: Data Preprocessing"
      ]
    },
    {
      "cell_type": "markdown",
      "metadata": {
        "id": "OYWYYW5w3vFa",
        "colab_type": "text"
      },
      "source": [
        "DEFINING FOLDER STRUCTURE FOR USE WITH .FLOW"
      ]
    },
    {
      "cell_type": "code",
      "metadata": {
        "id": "GUPy3XbnquCO",
        "colab_type": "code",
        "colab": {}
      },
      "source": [
        "#  Set up directory paths from gdrive\n",
        "train_dir_normal = 'xray/train/NORMAL'\n",
        "train_dir_pneum = 'xray/train/PNEUMONIA'\n",
        "test_dir_normal = 'xray/test/NORMAL'\n",
        "test_dir_pneum = 'xray/test/PNEUMONIA'\n",
        "val_dir_normal = 'xray/val/NORMAL'\n",
        "val_dir_pneum = 'xray/val/PNEUMONIA'\n",
        "all_dir_paths = [train_dir_normal, train_dir_pneum, test_dir_normal,\n",
        "                 test_dir_pneum, val_dir_normal, val_dir_pneum]"
      ],
      "execution_count": 9,
      "outputs": []
    },
    {
      "cell_type": "code",
      "metadata": {
        "id": "z6pg5a6M0AIF",
        "colab_type": "code",
        "colab": {
          "base_uri": "https://localhost:8080/",
          "height": 119
        },
        "outputId": "e0131b99-5730-4dbc-9e8f-84a0d71b4c49"
      },
      "source": [
        "# use loop to get number of samples from all folders\n",
        "for dataset in all_dir_paths: \n",
        "  print(str(dataset), len(os.listdir(dataset))) "
      ],
      "execution_count": 10,
      "outputs": [
        {
          "output_type": "stream",
          "text": [
            "xray/train/NORMAL 1342\n",
            "xray/train/PNEUMONIA 3419\n",
            "xray/test/NORMAL 234\n",
            "xray/test/PNEUMONIA 390\n",
            "xray/val/NORMAL 0\n",
            "xray/val/PNEUMONIA 0\n"
          ],
          "name": "stdout"
        }
      ]
    },
    {
      "cell_type": "code",
      "metadata": {
        "id": "Q2HXcdWk4xwV",
        "colab_type": "code",
        "colab": {}
      },
      "source": [
        "import glob,os\n"
      ],
      "execution_count": 11,
      "outputs": []
    },
    {
      "cell_type": "code",
      "metadata": {
        "id": "myumPl0mDfLk",
        "colab_type": "code",
        "colab": {}
      },
      "source": [
        "# use glob to get filenames of all images in each folder\n",
        "train_files_normal = glob.glob(train_dir_normal+'/*.jpeg')\n",
        "train_files_pneum = glob.glob(train_dir_pneum+'/*.jpeg')\n",
        "all_train_files = [*train_files_normal,*train_files_pneum]\n",
        "\n",
        "test_files_normal = glob.glob(test_dir_normal+'/*.jpeg')\n",
        "test_files_pneum = glob.glob(test_dir_pneum+'/*.jpeg')\n",
        "all_test_files = [*test_files_normal,*test_files_pneum]\n",
        "\n",
        "# hashed out bc I don't have val files currently\n",
        "# val_files_normal = glob.glob(val_dir_normal+'/*.jpeg'\n",
        "# val_files_pneum = glob.glob(train_dir_pneum+'/*.jpeg'\n",
        "# all_val_files = [*val_files_normal,*val_files_pneum]\n",
        "\n",
        "all_filename_vars = [train_files_normal, train_files_pneum,\n",
        "                        test_files_normal, test_files_pneum]\n",
        "                        # , val_files_normal, val_files_pneum]"
      ],
      "execution_count": 12,
      "outputs": []
    },
    {
      "cell_type": "markdown",
      "metadata": {
        "id": "aeBCGJ6Ua32c",
        "colab_type": "text"
      },
      "source": [
        "## Functions"
      ]
    },
    {
      "cell_type": "code",
      "metadata": {
        "id": "SSZUgInsBG_N",
        "colab_type": "code",
        "colab": {}
      },
      "source": [
        "# functions used from https://colab.research.google.com/drive/1fwXPY3IDHxNiv7YgOpt3p5BvUaO4VruB?usp=sharing\n",
        "from PIL import Image\n",
        "from keras.preprocessing import image\n",
        "from imageio import imread\n",
        "from skimage.transform import resize\n",
        "from tqdm import tqdm\n",
        "\n",
        "def read_img(img_path,target_size=(64, 64)):\n",
        "  \"\"\"This function reads in the image using the image path filenames created by glob. \n",
        "  Then it turns the image into an arrary for use with modeling. Specify target pixel \n",
        "  size using target_size=(n,n). Default is 64,64 pixels.\"\"\"\n",
        "  \n",
        "  img = image.load_img(img_path, target_size=target_size)\n",
        "  img = image.img_to_array(img)\n",
        "  \n",
        "  return img\n",
        "\n",
        "def load_train_test_val_images(training_filenames_normal, training_filenames_pneum,\n",
        "                        test_filenames_normal, test_filenames_pneum,\n",
        "                        # val_filenames_normal, val_filenames_pneum,\n",
        "                        img_size=(64,64)):\n",
        "    \"\"\"Reads in training, test and val filenames, uses read_img() to change to \n",
        "    change img to numpy array, then produces X and y data splits, in addition to\n",
        "    creating proper binary labels for modeling. The validation set is intended \n",
        "    to be used after training and testing model.\n",
        "\n",
        "    ylabels are encoded as 0=normal, 1=pneumonia\n",
        "    Returns:  X_train, X_test, X_val, y_train, y_test, y_val\"\"\"\n",
        "    \n",
        "    display('[i] LOADING IMAGES')\n",
        "\n",
        "\n",
        " # create empty lists to contain the image filenames and another to contain\n",
        " # the classification ylabel for each image.\n",
        "    train_img = []\n",
        "    train_label = []\n",
        "\n",
        "# reads in and classifies training normal label\n",
        "    for img_path in tqdm(training_filenames_normal):\n",
        "        train_img.append(read_img(img_path,target_size=img_size))\n",
        "        train_label.append(0)\n",
        "\n",
        "# reads in and classifies training penumonia label\n",
        "    for img_path in tqdm(training_filenames_pneum):\n",
        "        train_img.append(read_img(img_path,target_size=img_size))\n",
        "        train_label.append(1)\n",
        "\n",
        "\n",
        " # create empty lists to contain the image filenames and another to contain\n",
        " # the classification ylabel for each image.\n",
        "    test_img = []\n",
        "    test_label = []\n",
        "\n",
        "# reads in and classifies test normal label\n",
        "    for img_path in tqdm(test_filenames_normal):\n",
        "        test_img.append(read_img(img_path,target_size=img_size))\n",
        "        test_label.append(0)\n",
        "\n",
        "# reads in and classifies test penumonia label\n",
        "    for img_path in tqdm(test_filenames_pneum):\n",
        "        test_img.append(read_img(img_path,target_size=img_size))\n",
        "        test_label.append(1)\n",
        "\n",
        "    \n",
        "    # val_img = []\n",
        "    # val_label = []\n",
        "\n",
        "    # for img_path in tqdm(val_filenames_normal):\n",
        "    #     val_img.append(read_img(img_path,target_size=img_size))\n",
        "    #     val_label.append(0)\n",
        "\n",
        "    # for img_path in tqdm(val_filenames_pneum):\n",
        "    #     train_img.append(read_img(img_path,target_size=img_size))\n",
        "    #     train_label.append(1)\n",
        "\n",
        "\n",
        "# create your X_train and y_train variables for use in modeling\n",
        "    X_train = np.array(train_img, np.float32)\n",
        "    y_train = np.array(train_label)\n",
        "\n",
        "    X_test = np.array(test_img, np.float32)\n",
        "    y_test = np.array(test_label)\n",
        "\n",
        "    # X_val = np.array(val_img, np.float32)\n",
        "    # y_val = np.array(val_label)\n",
        "\n",
        "# Prints the length of each split for use in batching and knowledge of data. \n",
        "    print('\\n[i] Length of Splits:')\n",
        "    # print(f\"X_train={len(X_train)}, X_test={len(X_test)}, X_val={len(X_val)}\")\n",
        "    print(f\"X_train={len(X_train)}, X_test={len(X_test)}\")\n",
        "\n",
        "    # return X_train, X_test, X_val, y_train, y_test,y_val \n",
        "    return X_train, X_test, y_train, y_test\n",
        "\n",
        "\n",
        "# def train_test_val_datagens(X_train,X_test,X_val,y_train,y_test,y_val,\n",
        "def train_test_val_datagens(X_train, X_test, y_train, y_test,\n",
        "                            BATCH_SIZE = 32, train_datagen_kws= dict(\n",
        "                                shear_range = 0.2, \n",
        "                                zoom_range = 0.2)):\n",
        "                              \n",
        "    \"\"\"Takes in your training and test data and creates ImageDataGenerators \n",
        "    for train,test,val data. This will normalize your image array data.\n",
        "    Returns: training_set,test_set,val_set\"\"\"\n",
        "\n",
        "    ## Create training and test data image generators. \n",
        "    # This will normalize the image pixel data.\n",
        "    from keras.preprocessing.image import ImageDataGenerator\n",
        "\n",
        "    train_datagen = ImageDataGenerator(rescale = 1./255,**train_datagen_kws)\n",
        "\n",
        "    test_datagen = ImageDataGenerator(rescale = 1./255)\n",
        "\n",
        "    # val_datagen = ImageDataGenerator(rescale = 1./255)\n",
        "\n",
        "    training_set = train_datagen.flow(X_train,y=y_train,batch_size=BATCH_SIZE)\n",
        "    test_set = test_datagen.flow(X_test,y=y_test,batch_size=BATCH_SIZE)\n",
        "    # val_set = val_datagen.flow(X_val,y=y_val,batch_size=BATCH_SIZE)\n",
        "\n",
        "    return training_set, test_set, # val_set\n",
        "\n",
        "\n",
        "\n",
        "def get_shapes_dict(training_set,verbose=True):\n",
        "    shapes = [\"Batchsize\", \"img_width\",\"img_height\",\"img_dim\"]\n",
        "    SHAPES = dict(zip(shapes, training_set[0][0].shape))\n",
        "    if verbose:\n",
        "        print('SHAPES DICT:')\n",
        "        print(SHAPES)\n",
        "        print(training_set[0][0].shape)\n",
        "        print('\\n[i] Labels for batch (0=normal,1=pneumonia)')\n",
        "        print(training_set[0][1])\n",
        "    return SHAPES"
      ],
      "execution_count": 13,
      "outputs": []
    },
    {
      "cell_type": "code",
      "metadata": {
        "id": "5vZ5RhJ-Pjat",
        "colab_type": "code",
        "colab": {
          "base_uri": "https://localhost:8080/",
          "height": 289
        },
        "outputId": "bd735009-4fc9-4003-bb94-22034237904b"
      },
      "source": [
        "## USING FUNCTIONS TO LOAD IN IMAGES \n",
        "# X_train,X_test,X_val,y_train,y_test,y_val = load_train_test_val(*all_filename_vars,\n",
        "#                                                 img_size=(64,64)\n",
        "X_train,X_test,y_train,y_test = load_train_test_val_images(*all_filename_vars,\n",
        "                                                  img_size=(64,64))\n",
        "\n",
        "# train_test_val_vars = [X_train, X_test, X_val, y_train, y_test, y_val]\n",
        "train_test_val_vars = [X_train, X_test, y_train, y_test]\n",
        "\n",
        "# training_set,test_set,val_set = train_test_val_datagens(*train_test_val_vars,\n",
        "#                                                         BATCH_SIZE=100)\n",
        "training_set, test_set = train_test_val_datagens(*train_test_val_vars,\n",
        "                                                        BATCH_SIZE=100)\n",
        "\n",
        "SHAPES = get_shapes_dict(training_set)\n"
      ],
      "execution_count": 14,
      "outputs": [
        {
          "output_type": "display_data",
          "data": {
            "text/plain": [
              "'[i] LOADING IMAGES'"
            ]
          },
          "metadata": {
            "tags": []
          }
        },
        {
          "output_type": "stream",
          "text": [
            "100%|██████████| 1341/1341 [00:25<00:00, 52.96it/s]\n",
            "100%|██████████| 3418/3418 [00:18<00:00, 180.11it/s]\n",
            "100%|██████████| 234/234 [00:03<00:00, 77.44it/s]\n",
            "100%|██████████| 390/390 [00:01<00:00, 215.41it/s]\n"
          ],
          "name": "stderr"
        },
        {
          "output_type": "stream",
          "text": [
            "\n",
            "[i] Length of Splits:\n",
            "X_train=4759, X_test=624\n",
            "SHAPES DICT:\n",
            "{'Batchsize': 100, 'img_width': 64, 'img_height': 64, 'img_dim': 3}\n",
            "(100, 64, 64, 3)\n",
            "\n",
            "[i] Labels for batch (0=normal,1=pneumonia)\n",
            "[0 1 1 1 0 0 1 0 1 1 0 0 1 1 1 0 1 1 0 1 1 1 1 1 1 1 1 1 0 0 1 1 1 0 1 0 1\n",
            " 1 1 1 1 1 1 1 1 1 0 0 0 0 1 1 1 0 1 0 0 1 1 0 1 1 0 1 1 0 1 1 1 0 1 0 1 1\n",
            " 1 1 1 1 1 1 0 1 0 1 0 1 1 0 1 1 1 1 0 1 0 1 1 0 1 1]\n"
          ],
          "name": "stdout"
        }
      ]
    },
    {
      "cell_type": "code",
      "metadata": {
        "id": "yhgAaWqfgOmO",
        "colab_type": "code",
        "colab": {
          "base_uri": "https://localhost:8080/",
          "height": 34
        },
        "outputId": "a6286b83-0c95-4ecb-854d-04b3766140d4"
      },
      "source": [
        "test_set"
      ],
      "execution_count": null,
      "outputs": [
        {
          "output_type": "execute_result",
          "data": {
            "text/plain": [
              "<keras.preprocessing.image.NumpyArrayIterator at 0x7fd30089c710>"
            ]
          },
          "metadata": {
            "tags": []
          },
          "execution_count": 22
        }
      ]
    },
    {
      "cell_type": "code",
      "metadata": {
        "id": "WzGabOfUgFtp",
        "colab_type": "code",
        "colab": {
          "base_uri": "https://localhost:8080/",
          "height": 1000
        },
        "outputId": "22f879e4-bb1f-4a8c-d5c5-01c836e1ea2b"
      },
      "source": [
        "X_test"
      ],
      "execution_count": null,
      "outputs": [
        {
          "output_type": "execute_result",
          "data": {
            "text/plain": [
              "array([[[[ 17.,  17.,  17.],\n",
              "         [ 32.,  32.,  32.],\n",
              "         [ 38.,  38.,  38.],\n",
              "         ...,\n",
              "         [ 87.,  87.,  87.],\n",
              "         [ 35.,  35.,  35.],\n",
              "         [ 21.,  21.,  21.]],\n",
              "\n",
              "        [[ 22.,  22.,  22.],\n",
              "         [ 30.,  30.,  30.],\n",
              "         [ 34.,  34.,  34.],\n",
              "         ...,\n",
              "         [ 34.,  34.,  34.],\n",
              "         [ 21.,  21.,  21.],\n",
              "         [ 24.,  24.,  24.]],\n",
              "\n",
              "        [[ 24.,  24.,  24.],\n",
              "         [255., 255., 255.],\n",
              "         [ 38.,  38.,  38.],\n",
              "         ...,\n",
              "         [ 34.,  34.,  34.],\n",
              "         [ 19.,  19.,  19.],\n",
              "         [ 19.,  19.,  19.]],\n",
              "\n",
              "        ...,\n",
              "\n",
              "        [[  0.,   0.,   0.],\n",
              "         [  0.,   0.,   0.],\n",
              "         [  0.,   0.,   0.],\n",
              "         ...,\n",
              "         [  0.,   0.,   0.],\n",
              "         [  0.,   0.,   0.],\n",
              "         [  0.,   0.,   0.]],\n",
              "\n",
              "        [[  0.,   0.,   0.],\n",
              "         [  0.,   0.,   0.],\n",
              "         [  0.,   0.,   0.],\n",
              "         ...,\n",
              "         [  0.,   0.,   0.],\n",
              "         [  0.,   0.,   0.],\n",
              "         [  0.,   0.,   0.]],\n",
              "\n",
              "        [[  0.,   0.,   0.],\n",
              "         [  0.,   0.,   0.],\n",
              "         [  0.,   0.,   0.],\n",
              "         ...,\n",
              "         [  0.,   0.,   0.],\n",
              "         [  0.,   0.,   0.],\n",
              "         [  0.,   0.,   0.]]],\n",
              "\n",
              "\n",
              "       [[[ 14.,  14.,  14.],\n",
              "         [ 14.,  14.,  14.],\n",
              "         [ 14.,  14.,  14.],\n",
              "         ...,\n",
              "         [ 16.,  16.,  16.],\n",
              "         [ 16.,  16.,  16.],\n",
              "         [ 12.,  12.,  12.]],\n",
              "\n",
              "        [[ 14.,  14.,  14.],\n",
              "         [ 13.,  13.,  13.],\n",
              "         [ 14.,  14.,  14.],\n",
              "         ...,\n",
              "         [ 16.,  16.,  16.],\n",
              "         [ 15.,  15.,  15.],\n",
              "         [ 12.,  12.,  12.]],\n",
              "\n",
              "        [[ 14.,  14.,  14.],\n",
              "         [ 13.,  13.,  13.],\n",
              "         [ 13.,  13.,  13.],\n",
              "         ...,\n",
              "         [ 14.,  14.,  14.],\n",
              "         [ 14.,  14.,  14.],\n",
              "         [ 16.,  16.,  16.]],\n",
              "\n",
              "        ...,\n",
              "\n",
              "        [[ 11.,  11.,  11.],\n",
              "         [ 10.,  10.,  10.],\n",
              "         [ 10.,  10.,  10.],\n",
              "         ...,\n",
              "         [ 13.,  13.,  13.],\n",
              "         [ 14.,  14.,  14.],\n",
              "         [ 14.,  14.,  14.]],\n",
              "\n",
              "        [[  9.,   9.,   9.],\n",
              "         [ 10.,  10.,  10.],\n",
              "         [  9.,   9.,   9.],\n",
              "         ...,\n",
              "         [ 14.,  14.,  14.],\n",
              "         [ 14.,  14.,  14.],\n",
              "         [ 14.,  14.,  14.]],\n",
              "\n",
              "        [[  9.,   9.,   9.],\n",
              "         [ 10.,  10.,  10.],\n",
              "         [  9.,   9.,   9.],\n",
              "         ...,\n",
              "         [ 14.,  14.,  14.],\n",
              "         [ 14.,  14.,  14.],\n",
              "         [ 14.,  14.,  14.]]],\n",
              "\n",
              "\n",
              "       [[[ 45.,  45.,  45.],\n",
              "         [ 64.,  64.,  64.],\n",
              "         [ 76.,  76.,  76.],\n",
              "         ...,\n",
              "         [ 80.,  80.,  80.],\n",
              "         [ 65.,  65.,  65.],\n",
              "         [ 42.,  42.,  42.]],\n",
              "\n",
              "        [[ 43.,  43.,  43.],\n",
              "         [ 67.,  67.,  67.],\n",
              "         [ 82.,  82.,  82.],\n",
              "         ...,\n",
              "         [ 89.,  89.,  89.],\n",
              "         [ 63.,  63.,  63.],\n",
              "         [ 40.,  40.,  40.]],\n",
              "\n",
              "        [[ 34.,  34.,  34.],\n",
              "         [ 72.,  72.,  72.],\n",
              "         [ 76.,  76.,  76.],\n",
              "         ...,\n",
              "         [ 86.,  86.,  86.],\n",
              "         [ 68.,  68.,  68.],\n",
              "         [ 40.,  40.,  40.]],\n",
              "\n",
              "        ...,\n",
              "\n",
              "        [[  0.,   0.,   0.],\n",
              "         [  0.,   0.,   0.],\n",
              "         [  0.,   0.,   0.],\n",
              "         ...,\n",
              "         [  0.,   0.,   0.],\n",
              "         [  0.,   0.,   0.],\n",
              "         [  0.,   0.,   0.]],\n",
              "\n",
              "        [[  0.,   0.,   0.],\n",
              "         [  0.,   0.,   0.],\n",
              "         [  0.,   0.,   0.],\n",
              "         ...,\n",
              "         [  0.,   0.,   0.],\n",
              "         [  0.,   0.,   0.],\n",
              "         [  0.,   0.,   0.]],\n",
              "\n",
              "        [[  0.,   0.,   0.],\n",
              "         [  0.,   0.,   0.],\n",
              "         [  0.,   0.,   0.],\n",
              "         ...,\n",
              "         [  0.,   0.,   0.],\n",
              "         [  0.,   0.,   0.],\n",
              "         [  0.,   0.,   0.]]],\n",
              "\n",
              "\n",
              "       ...,\n",
              "\n",
              "\n",
              "       [[[  0.,   0.,   0.],\n",
              "         [  0.,   0.,   0.],\n",
              "         [  0.,   0.,   0.],\n",
              "         ...,\n",
              "         [ 59.,  59.,  59.],\n",
              "         [ 77.,  77.,  77.],\n",
              "         [ 16.,  16.,  16.]],\n",
              "\n",
              "        [[  0.,   0.,   0.],\n",
              "         [  0.,   0.,   0.],\n",
              "         [  0.,   0.,   0.],\n",
              "         ...,\n",
              "         [ 48.,  48.,  48.],\n",
              "         [ 50.,  50.,  50.],\n",
              "         [ 35.,  35.,  35.]],\n",
              "\n",
              "        [[  0.,   0.,   0.],\n",
              "         [  0.,   0.,   0.],\n",
              "         [  0.,   0.,   0.],\n",
              "         ...,\n",
              "         [ 47.,  47.,  47.],\n",
              "         [ 36.,  36.,  36.],\n",
              "         [ 36.,  36.,  36.]],\n",
              "\n",
              "        ...,\n",
              "\n",
              "        [[138., 138., 138.],\n",
              "         [ 19.,  19.,  19.],\n",
              "         [ 17.,  17.,  17.],\n",
              "         ...,\n",
              "         [ 39.,  39.,  39.],\n",
              "         [ 12.,  12.,  12.],\n",
              "         [ 14.,  14.,  14.]],\n",
              "\n",
              "        [[126., 126., 126.],\n",
              "         [ 19.,  19.,  19.],\n",
              "         [ 16.,  16.,  16.],\n",
              "         ...,\n",
              "         [ 39.,  39.,  39.],\n",
              "         [ 17.,  17.,  17.],\n",
              "         [ 14.,  14.,  14.]],\n",
              "\n",
              "        [[117., 117., 117.],\n",
              "         [ 18.,  18.,  18.],\n",
              "         [ 17.,  17.,  17.],\n",
              "         ...,\n",
              "         [207., 207., 207.],\n",
              "         [ 28.,  28.,  28.],\n",
              "         [ 22.,  22.,  22.]]],\n",
              "\n",
              "\n",
              "       [[[ 45.,  45.,  45.],\n",
              "         [ 42.,  42.,  42.],\n",
              "         [ 28.,  28.,  28.],\n",
              "         ...,\n",
              "         [155., 155., 155.],\n",
              "         [196., 196., 196.],\n",
              "         [205., 205., 205.]],\n",
              "\n",
              "        [[ 62.,  62.,  62.],\n",
              "         [ 43.,  43.,  43.],\n",
              "         [ 50.,  50.,  50.],\n",
              "         ...,\n",
              "         [139., 139., 139.],\n",
              "         [177., 177., 177.],\n",
              "         [192., 192., 192.]],\n",
              "\n",
              "        [[ 56.,  56.,  56.],\n",
              "         [124., 124., 124.],\n",
              "         [ 39.,  39.,  39.],\n",
              "         ...,\n",
              "         [151., 151., 151.],\n",
              "         [168., 168., 168.],\n",
              "         [182., 182., 182.]],\n",
              "\n",
              "        ...,\n",
              "\n",
              "        [[ 27.,  27.,  27.],\n",
              "         [ 26.,  26.,  26.],\n",
              "         [ 25.,  25.,  25.],\n",
              "         ...,\n",
              "         [ 25.,  25.,  25.],\n",
              "         [ 25.,  25.,  25.],\n",
              "         [ 26.,  26.,  26.]],\n",
              "\n",
              "        [[ 28.,  28.,  28.],\n",
              "         [ 27.,  27.,  27.],\n",
              "         [ 26.,  26.,  26.],\n",
              "         ...,\n",
              "         [ 24.,  24.,  24.],\n",
              "         [ 25.,  25.,  25.],\n",
              "         [ 26.,  26.,  26.]],\n",
              "\n",
              "        [[ 28.,  28.,  28.],\n",
              "         [ 26.,  26.,  26.],\n",
              "         [ 26.,  26.,  26.],\n",
              "         ...,\n",
              "         [ 25.,  25.,  25.],\n",
              "         [ 25.,  25.,  25.],\n",
              "         [ 26.,  26.,  26.]]],\n",
              "\n",
              "\n",
              "       [[[ 62.,  62.,  62.],\n",
              "         [ 67.,  67.,  67.],\n",
              "         [ 65.,  65.,  65.],\n",
              "         ...,\n",
              "         [ 56.,  56.,  56.],\n",
              "         [ 52.,  52.,  52.],\n",
              "         [ 52.,  52.,  52.]],\n",
              "\n",
              "        [[ 66.,  66.,  66.],\n",
              "         [ 67.,  67.,  67.],\n",
              "         [ 68.,  68.,  68.],\n",
              "         ...,\n",
              "         [ 64.,  64.,  64.],\n",
              "         [ 61.,  61.,  61.],\n",
              "         [ 52.,  52.,  52.]],\n",
              "\n",
              "        [[ 62.,  62.,  62.],\n",
              "         [ 66.,  66.,  66.],\n",
              "         [ 66.,  66.,  66.],\n",
              "         ...,\n",
              "         [ 66.,  66.,  66.],\n",
              "         [ 62.,  62.,  62.],\n",
              "         [ 49.,  49.,  49.]],\n",
              "\n",
              "        ...,\n",
              "\n",
              "        [[ 33.,  33.,  33.],\n",
              "         [ 31.,  31.,  31.],\n",
              "         [ 30.,  30.,  30.],\n",
              "         ...,\n",
              "         [ 23.,  23.,  23.],\n",
              "         [ 28.,  28.,  28.],\n",
              "         [ 30.,  30.,  30.]],\n",
              "\n",
              "        [[ 33.,  33.,  33.],\n",
              "         [ 32.,  32.,  32.],\n",
              "         [ 30.,  30.,  30.],\n",
              "         ...,\n",
              "         [ 27.,  27.,  27.],\n",
              "         [ 29.,  29.,  29.],\n",
              "         [ 31.,  31.,  31.]],\n",
              "\n",
              "        [[ 33.,  33.,  33.],\n",
              "         [ 32.,  32.,  32.],\n",
              "         [ 32.,  32.,  32.],\n",
              "         ...,\n",
              "         [ 24.,  24.,  24.],\n",
              "         [ 27.,  27.,  27.],\n",
              "         [ 30.,  30.,  30.]]]], dtype=float32)"
            ]
          },
          "metadata": {
            "tags": []
          },
          "execution_count": 21
        }
      ]
    },
    {
      "cell_type": "markdown",
      "metadata": {
        "id": "QYkX1aeQGJy0",
        "colab_type": "text"
      },
      "source": [
        "# Step 3: EDA and Visualization"
      ]
    },
    {
      "cell_type": "markdown",
      "metadata": {
        "id": "ajnHbbfqx3vR",
        "colab_type": "text"
      },
      "source": [
        "## View an image"
      ]
    },
    {
      "cell_type": "code",
      "metadata": {
        "id": "5zbo5SDW3P8m",
        "colab_type": "code",
        "colab": {
          "base_uri": "https://localhost:8080/",
          "height": 269
        },
        "outputId": "7d0e912c-bd9f-405e-8270-b973e91d0190"
      },
      "source": [
        "# view a regular image file\n",
        "from keras.preprocessing import image\n",
        "import matplotlib.image as mpimg\n",
        "import matplotlib.pyplot as plt\n",
        "%matplotlib inline\n",
        "\n",
        "filename = train_files_normal[0] # uses first filename from glob list\n",
        "img = image.load_img(filename, target_size=(150, 150))\n",
        "plt.imshow(img)\n",
        "plt.show()"
      ],
      "execution_count": 15,
      "outputs": [
        {
          "output_type": "display_data",
          "data": {
            "image/png": "[encoded data removed]",
            "text/plain": [
              "<Figure size 432x288 with 1 Axes>"
            ]
          },
          "metadata": {
            "tags": [],
            "needs_background": "light"
          }
        }
      ]
    },
    {
      "cell_type": "code",
      "metadata": {
        "id": "0lG3qS7_GJy2",
        "colab_type": "code",
        "colab": {}
      },
      "source": [
        "from keras.preprocessing import image\n",
        "import matplotlib.pyplot as plt\n",
        "%matplotlib inline"
      ],
      "execution_count": 16,
      "outputs": []
    },
    {
      "cell_type": "code",
      "metadata": {
        "id": "kisL4iPM3c85",
        "colab_type": "code",
        "colab": {
          "base_uri": "https://localhost:8080/",
          "height": 286
        },
        "outputId": "12b2d713-9d15-42b4-f9f1-a4eda976bab7"
      },
      "source": [
        "# view as a tensor image\n",
        "import numpy as np\n",
        "\n",
        "img_tensor = image.img_to_array(img)\n",
        "img_tensor = np.expand_dims(img_tensor, axis=0)\n",
        "\n",
        "# Follow the Original Model Preprocessing\n",
        "img_tensor /= 255.\n",
        "\n",
        "# Check tensor shape\n",
        "print(img_tensor.shape)\n",
        "\n",
        "# Preview an image\n",
        "plt.imshow(img_tensor[0])\n",
        "plt.show()"
      ],
      "execution_count": 17,
      "outputs": [
        {
          "output_type": "stream",
          "text": [
            "(1, 150, 150, 3)\n"
          ],
          "name": "stdout"
        },
        {
          "output_type": "display_data",
          "data": {
            "image/png": "[encoded data removed]",
            "text/plain": [
              "<Figure size 432x288 with 1 Axes>"
            ]
          },
          "metadata": {
            "tags": [],
            "needs_background": "light"
          }
        }
      ]
    },
    {
      "cell_type": "markdown",
      "metadata": {
        "id": "G_SqdBCJGJ3R",
        "colab_type": "text"
      },
      "source": [
        "# Step 4: Modeling"
      ]
    },
    {
      "cell_type": "markdown",
      "metadata": {
        "id": "JQYokTp7gfu7",
        "colab_type": "text"
      },
      "source": [
        "## BUILD BASELINE CNN"
      ]
    },
    {
      "cell_type": "code",
      "metadata": {
        "id": "ygeEcJrmixhh",
        "colab_type": "code",
        "colab": {
          "base_uri": "https://localhost:8080/",
          "height": 598
        },
        "outputId": "9c5341de-a8c6-490a-95f9-33d84d163036"
      },
      "source": [
        "np.random.seed(111)\n",
        "\n",
        "from keras import layers\n",
        "from keras import models\n",
        "from keras import optimizers\n",
        "import datetime\n",
        "\n",
        "\n",
        "# timer for model\n",
        "original_start = datetime.datetime.now()\n",
        "start = datetime.datetime.now()\n",
        "\n",
        "# Initialising the CNN\n",
        "model = Sequential()\n",
        "\n",
        "# Step 1 - Convolution\n",
        "model.add(layers.Conv2D(SHAPES['Batchsize'], (3, 3),\n",
        "                      input_shape = (SHAPES['img_width'], \n",
        "                                     SHAPES['img_height'],\n",
        "                                     SHAPES['img_dim']),\n",
        "                       activation = 'relu'))\n",
        "# Step 2 - Pooling\n",
        "model.add(layers.MaxPooling2D(pool_size = (2, 2)))\n",
        "\n",
        "# Adding a second convolutional layer\n",
        "model.add(layers.Conv2D(SHAPES['Batchsize'], (3, 3),\n",
        "                      activation = 'relu'))\n",
        "model.add(layers.MaxPooling2D(pool_size = (2, 2)))\n",
        "\n",
        "# Step 3 - Flattening\n",
        "model.add(layers.Flatten())\n",
        "\n",
        "# Step 4 - Full connection\n",
        "model.add(layers.Dense(units = SHAPES['Batchsize'], activation = 'relu'))\n",
        "\n",
        "model.add(layers.Dense(units = 1, activation = 'sigmoid'))\n",
        "\n",
        "# Compiling the CNN\n",
        "model.compile(optimizer = 'sgd', \n",
        "                   loss = 'binary_crossentropy',\n",
        "                   metrics = ['acc'])\n",
        "print()\n",
        "display(model.summary())\n",
        "\n",
        "# Fitting the CNN to the images using fit_generator\n",
        "history = model.fit_generator(training_set,\n",
        "                             steps_per_epoch = 500,\n",
        "                             epochs = 4,\n",
        "                             validation_data = test_set,\n",
        "                             validation_steps =100, verbose=1, workers=-1)\n",
        "# end timer\n",
        "end = datetime.datetime.now()\n",
        "elapsed = end - start\n",
        "print('Training took a total of {}'.format(elapsed))                              "
      ],
      "execution_count": 18,
      "outputs": [
        {
          "output_type": "stream",
          "text": [
            "\n",
            "Model: \"sequential_1\"\n",
            "_________________________________________________________________\n",
            "Layer (type)                 Output Shape              Param #   \n",
            "=================================================================\n",
            "conv2d_1 (Conv2D)            (None, 62, 62, 100)       2800      \n",
            "_________________________________________________________________\n",
            "max_pooling2d_1 (MaxPooling2 (None, 31, 31, 100)       0         \n",
            "_________________________________________________________________\n",
            "conv2d_2 (Conv2D)            (None, 29, 29, 100)       90100     \n",
            "_________________________________________________________________\n",
            "max_pooling2d_2 (MaxPooling2 (None, 14, 14, 100)       0         \n",
            "_________________________________________________________________\n",
            "flatten_1 (Flatten)          (None, 19600)             0         \n",
            "_________________________________________________________________\n",
            "dense_1 (Dense)              (None, 100)               1960100   \n",
            "_________________________________________________________________\n",
            "dense_2 (Dense)              (None, 1)                 101       \n",
            "=================================================================\n",
            "Total params: 2,053,101\n",
            "Trainable params: 2,053,101\n",
            "Non-trainable params: 0\n",
            "_________________________________________________________________\n"
          ],
          "name": "stdout"
        },
        {
          "output_type": "display_data",
          "data": {
            "text/plain": [
              "None"
            ]
          },
          "metadata": {
            "tags": []
          }
        },
        {
          "output_type": "stream",
          "text": [
            "Epoch 1/4\n",
            "500/500 [==============================] - 60s 121ms/step - loss: 0.4546 - acc: 0.7895 - val_loss: 0.4575 - val_acc: 0.8365\n",
            "Epoch 2/4\n",
            "500/500 [==============================] - 54s 107ms/step - loss: 0.2916 - acc: 0.8752 - val_loss: 0.2798 - val_acc: 0.8530\n",
            "Epoch 3/4\n",
            "500/500 [==============================] - 54s 108ms/step - loss: 0.2545 - acc: 0.8944 - val_loss: 0.3583 - val_acc: 0.8477\n",
            "Epoch 4/4\n",
            "500/500 [==============================] - 55s 109ms/step - loss: 0.2376 - acc: 0.9017 - val_loss: 0.3649 - val_acc: 0.8520\n",
            "Training took a total of 0:03:51.239226\n"
          ],
          "name": "stdout"
        }
      ]
    },
    {
      "cell_type": "code",
      "metadata": {
        "id": "40cG4WPdgqcd",
        "colab_type": "code",
        "colab": {
          "base_uri": "https://localhost:8080/",
          "height": 34
        },
        "outputId": "8e076a8b-bb7c-44d7-bfb5-688d3c177234"
      },
      "source": [
        "results_train = model.evaluate(X_train, y_train)"
      ],
      "execution_count": 19,
      "outputs": [
        {
          "output_type": "stream",
          "text": [
            "4759/4759 [==============================] - 1s 125us/step\n"
          ],
          "name": "stdout"
        }
      ]
    },
    {
      "cell_type": "code",
      "metadata": {
        "id": "jw_qh9dBgtOf",
        "colab_type": "code",
        "colab": {
          "base_uri": "https://localhost:8080/",
          "height": 34
        },
        "outputId": "1eb39079-9ea6-4246-f2d0-c86ab08a1e28"
      },
      "source": [
        "results_test = model.evaluate(X_test, y_test)"
      ],
      "execution_count": 20,
      "outputs": [
        {
          "output_type": "stream",
          "text": [
            "624/624 [==============================] - 0s 136us/step\n"
          ],
          "name": "stdout"
        }
      ]
    },
    {
      "cell_type": "code",
      "metadata": {
        "id": "Dv6xQX8xgvjx",
        "colab_type": "code",
        "colab": {
          "base_uri": "https://localhost:8080/",
          "height": 34
        },
        "outputId": "1df2ec46-237f-465a-f4ff-1e40c496d419"
      },
      "source": [
        "# training loss and accuracy\n",
        "results_train"
      ],
      "execution_count": 21,
      "outputs": [
        {
          "output_type": "execute_result",
          "data": {
            "text/plain": [
              "[17.972051886021426, 0.934229850769043]"
            ]
          },
          "metadata": {
            "tags": []
          },
          "execution_count": 21
        }
      ]
    },
    {
      "cell_type": "code",
      "metadata": {
        "id": "uG2fWjQOgxcP",
        "colab_type": "code",
        "colab": {
          "base_uri": "https://localhost:8080/",
          "height": 34
        },
        "outputId": "7f843135-a6bc-4b4b-a7c0-868ef7f24deb"
      },
      "source": [
        "# test loss and accuracy\n",
        "results_test"
      ],
      "execution_count": 22,
      "outputs": [
        {
          "output_type": "execute_result",
          "data": {
            "text/plain": [
              "[72.10040345864418, 0.8349359035491943]"
            ]
          },
          "metadata": {
            "tags": []
          },
          "execution_count": 22
        }
      ]
    },
    {
      "cell_type": "code",
      "metadata": {
        "id": "OOE0LwYTo2BI",
        "colab_type": "code",
        "colab": {}
      },
      "source": [
        "# # Your code here; save the model for future reference \n",
        "# model.save('baseline_model.h5')\n"
      ],
      "execution_count": null,
      "outputs": []
    },
    {
      "cell_type": "markdown",
      "metadata": {
        "id": "Gz7wztXlH9g7",
        "colab_type": "text"
      },
      "source": [
        "### Visualize accuracy and loss"
      ]
    },
    {
      "cell_type": "code",
      "metadata": {
        "id": "1kKwc9OLIK7c",
        "colab_type": "code",
        "colab": {
          "base_uri": "https://localhost:8080/",
          "height": 545
        },
        "outputId": "4f9da537-da44-4c04-c3c8-29520e3925fd"
      },
      "source": [
        "# view baseline cnn results evaluate\n",
        "import matplotlib.pyplot as plt\n",
        "%matplotlib inline \n",
        "\n",
        "train_acc = history.history['acc']\n",
        "test_acc = history.history['val_acc']\n",
        "train_loss = history.history['loss']\n",
        "test_loss = history.history['val_loss']\n",
        "epochs = range(len(train_acc))\n",
        "plt.plot(epochs, train_acc, 'bo', label='Training acc')\n",
        "plt.plot(epochs, test_acc, 'b', label='Test acc')\n",
        "plt.title('Training and Testing accuracy')\n",
        "plt.legend()\n",
        "plt.figure()\n",
        "plt.plot(epochs, train_loss, 'bo', label='Training loss')\n",
        "plt.plot(epochs, test_loss, 'b', label='Test loss')\n",
        "plt.title('Training and Testing loss')\n",
        "plt.legend()\n",
        "plt.show()"
      ],
      "execution_count": 23,
      "outputs": [
        {
          "output_type": "display_data",
          "data": {
            "image/png": "[encoded data removed]",
            "text/plain": [
              "<Figure size 432x288 with 1 Axes>"
            ]
          },
          "metadata": {
            "tags": [],
            "needs_background": "light"
          }
        },
        {
          "output_type": "display_data",
          "data": {
            "image/png": "[encoded data removed]",
            "text/plain": [
              "<Figure size 432x288 with 1 Axes>"
            ]
          },
          "metadata": {
            "tags": [],
            "needs_background": "light"
          }
        }
      ]
    },
    {
      "cell_type": "markdown",
      "metadata": {
        "id": "59k1EDEgLdAC",
        "colab_type": "text"
      },
      "source": [
        "### Visualize confusion matrix"
      ]
    },
    {
      "cell_type": "code",
      "metadata": {
        "id": "MuFqUPlSLRMG",
        "colab_type": "code",
        "colab": {
          "base_uri": "https://localhost:8080/",
          "height": 557
        },
        "outputId": "8f4d270e-a85d-479c-9a39-d658fb5ca140"
      },
      "source": [
        "import sklearn.metrics as metrics\n",
        "# from mod3 project\n",
        "def evaluate_model(y_test, y_pred,model_history=None):\n",
        "    \"\"\"Takes in your target, target predictions, model history.\n",
        "        Returns a metric report and confusion matrix.\"\"\"\n",
        "    \n",
        "    ## Classification Report / Scores \n",
        "    print(metrics.classification_report(y_test,y_pred))\n",
        "\n",
        "    # subplot for confusion matrix\n",
        "    fig, ax = plt.subplots(figsize=(12,6))\n",
        "    cm = metrics.confusion_matrix(y_test,y_pred)\n",
        "\n",
        "    plt.imshow(cm, interpolation='nearest', cmap='Blues')\n",
        "    plt.title('Confusion Matrix. 0=Norm, 1=Pneum')\n",
        "    plt.colorbar()\n",
        "    plt.ylabel('True label')\n",
        "    plt.xlabel('Predicted label')\n",
        "\n",
        "    classes = list(range(len(cm)))  \n",
        "    plt.xticks(classes, classes)\n",
        "    plt.yticks(classes, classes)\n",
        "\n",
        "\n",
        "    plt.show()\n",
        "\n",
        "y_preds = model.predict_classes(X_test).flatten()\n",
        "\n",
        "evaluate_model(y_test,y_preds,history)\n"
      ],
      "execution_count": 24,
      "outputs": [
        {
          "output_type": "stream",
          "text": [
            "              precision    recall  f1-score   support\n",
            "\n",
            "           0       0.93      0.61      0.73       234\n",
            "           1       0.80      0.97      0.88       390\n",
            "\n",
            "    accuracy                           0.83       624\n",
            "   macro avg       0.87      0.79      0.81       624\n",
            "weighted avg       0.85      0.83      0.83       624\n",
            "\n"
          ],
          "name": "stdout"
        },
        {
          "output_type": "display_data",
          "data": {
            "image/png": "[encoded data removed]",
            "text/plain": [
              "<Figure size 864x432 with 2 Axes>"
            ]
          },
          "metadata": {
            "tags": [],
            "needs_background": "light"
          }
        }
      ]
    },
    {
      "cell_type": "markdown",
      "metadata": {
        "id": "2h9EqXmfGJ46",
        "colab_type": "text"
      },
      "source": [
        "### Interpreting Results"
      ]
    },
    {
      "cell_type": "markdown",
      "metadata": {
        "id": "rQbv3oOwuGpy",
        "colab_type": "text"
      },
      "source": [
        "Model.evaluate shows my test accuracy at 84% and loss at 73%. My metrics classification report from sklearn also shows my accuracy at 84% with an excellent recall of 97% of pneumonia diagnosis. "
      ]
    },
    {
      "cell_type": "markdown",
      "metadata": {
        "id": "xz8ntdxLyW2c",
        "colab_type": "text"
      },
      "source": [
        "# Visualize Feature Map Layers"
      ]
    },
    {
      "cell_type": "code",
      "metadata": {
        "id": "PmBD5EnXGJ0M",
        "colab_type": "code",
        "colab": {}
      },
      "source": [
        "from keras import models"
      ],
      "execution_count": null,
      "outputs": []
    },
    {
      "cell_type": "code",
      "metadata": {
        "id": "1mHxTKWEGJ0Y",
        "colab_type": "code",
        "colab": {}
      },
      "source": [
        "# Extract model layer outputs\n",
        "layer_outputs = [layer.output for layer in model.layers[:8]]\n",
        "\n",
        "# Rather then a model with a single output, we are going to make a model to display the feature maps\n",
        "activation_model = models.Model(inputs=model.input, outputs=layer_outputs)"
      ],
      "execution_count": null,
      "outputs": []
    },
    {
      "cell_type": "code",
      "metadata": {
        "id": "xDrvXQ-sGJ1f",
        "colab_type": "code",
        "colab": {}
      },
      "source": [
        "model.summary()"
      ],
      "execution_count": null,
      "outputs": []
    },
    {
      "cell_type": "code",
      "metadata": {
        "id": "524AqvXmGJ2U",
        "colab_type": "code",
        "colab": {}
      },
      "source": [
        "# Returns an array for each activation layer\n",
        "activations = activation_model.predict(img_tensor)\n",
        "\n",
        "first_layer_activation = activations[0]\n",
        "print(first_layer_activation.shape)\n",
        "\n",
        "# We slice the third channel and preview the results\n",
        "plt.matshow(first_layer_activation[0, :, :, 3], cmap='viridis')\n",
        "plt.show()"
      ],
      "execution_count": null,
      "outputs": []
    },
    {
      "cell_type": "code",
      "metadata": {
        "id": "MMkaXHb7GJ2x",
        "colab_type": "code",
        "colab": {}
      },
      "source": [
        "# Repeating the process for another channel (the 30th)\n",
        "activations = activation_model.predict(img_tensor)\n",
        "\n",
        "first_layer_activation = activations[0]\n",
        "print(first_layer_activation.shape)\n",
        "\n",
        "plt.matshow(first_layer_activation[0, :, :, 30], cmap='viridis')\n",
        "plt.show()"
      ],
      "execution_count": null,
      "outputs": []
    },
    {
      "cell_type": "code",
      "metadata": {
        "id": "S0PB9xwaGJ3E",
        "colab_type": "code",
        "colab": {}
      },
      "source": [
        "# visualize all channels from first activation function\n",
        "fig, axes = plt.subplots(8, 4, figsize=(12,24))\n",
        "for i in range(32):\n",
        "    row = i//4\n",
        "    column = i%4\n",
        "    ax = axes[row, column]\n",
        "    first_layer_activation = activations[0]\n",
        "    ax.matshow(first_layer_activation[0, :, :, i], cmap='viridis')"
      ],
      "execution_count": null,
      "outputs": []
    },
    {
      "cell_type": "markdown",
      "metadata": {
        "id": "wPqLIQ5pzk2I",
        "colab_type": "text"
      },
      "source": [
        "REPEAT FOR ALL LAYERS"
      ]
    },
    {
      "cell_type": "code",
      "metadata": {
        "id": "5Kq7-n-fzpMC",
        "colab_type": "code",
        "colab": {}
      },
      "source": [
        "fig, axes = plt.subplots(2,4, figsize=(12,8))\n",
        "\n",
        "layer_names = []\n",
        "for layer in model.layers[:8]:\n",
        "    layer_names.append(layer.name)\n",
        "\n",
        "for i in range(8):\n",
        "    row = i//4\n",
        "    column = i%4\n",
        "    ax = axes[row, column]\n",
        "    cur_layer = activations[i]\n",
        "    ax.matshow(cur_layer[0, :, :, 29], cmap='viridis')\n",
        "    ax.xaxis.set_ticks_position('bottom')\n",
        "    ax.set_title(layer_names[i])"
      ],
      "execution_count": null,
      "outputs": []
    },
    {
      "cell_type": "markdown",
      "metadata": {
        "id": "zZg-yBek4vpV",
        "colab_type": "text"
      },
      "source": [
        "REPEAT FOR ALL MAPS OF ALL FUNCTION LAYERS"
      ]
    },
    {
      "cell_type": "code",
      "metadata": {
        "id": "0hCPh_He40B6",
        "colab_type": "code",
        "colab": {}
      },
      "source": [
        "# Your code here\n",
        "from keras import models\n",
        "import math \n",
        "\n",
        "# Extract model layer outputs\n",
        "layer_outputs = [layer.output for layer in model.layers[:8]]\n",
        "\n",
        "# Create a model for displaying the feature maps\n",
        "activation_model = models.Model(inputs=model.input, outputs=layer_outputs)\n",
        "\n",
        "activations = activation_model.predict(img_tensor)\n",
        "\n",
        "# Extract Layer Names for Labelling\n",
        "layer_names = []\n",
        "for layer in model.layers[:8]:\n",
        "    layer_names.append(layer.name)\n",
        "\n",
        "total_features = sum([a.shape[-1] for a in activations])\n",
        "total_features\n",
        "\n",
        "n_cols = 16\n",
        "n_rows = math.ceil(total_features / n_cols)\n",
        "\n",
        "\n",
        "iteration = 0\n",
        "fig , axes = plt.subplots(nrows=n_rows, ncols=n_cols, figsize=(n_cols, n_rows*1.5))\n",
        "\n",
        "for layer_n, layer_activation in enumerate(activations):\n",
        "    n_channels = layer_activation.shape[-1]\n",
        "    for ch_idx in range(n_channels):\n",
        "        row = iteration // n_cols\n",
        "        column = iteration % n_cols\n",
        "    \n",
        "        ax = axes[row, column]\n",
        "\n",
        "        channel_image = layer_activation[0,\n",
        "                                         :, :,\n",
        "                                         ch_idx]\n",
        "        # Post-process the feature to make it visually palatable\n",
        "        channel_image -= channel_image.mean()\n",
        "        channel_image /= channel_image.std()\n",
        "        channel_image *= 64\n",
        "        channel_image += 128\n",
        "        channel_image = np.clip(channel_image, 0, 255).astype('uint8')\n",
        "\n",
        "        ax.imshow(channel_image, aspect='auto', cmap='viridis')\n",
        "        ax.get_xaxis().set_ticks([])\n",
        "        ax.get_yaxis().set_ticks([])\n",
        "        \n",
        "        if ch_idx == 0:\n",
        "            ax.set_title(layer_names[layer_n], fontsize=10)\n",
        "        iteration += 1\n",
        "\n",
        "fig.subplots_adjust(hspace=1.25)\n",
        "plt.savefig('Intermediate_Activations_Visualized.pdf')\n",
        "plt.show()"
      ],
      "execution_count": null,
      "outputs": []
    },
    {
      "cell_type": "code",
      "metadata": {
        "id": "t6SyynUwGJ48",
        "colab_type": "code",
        "colab": {}
      },
      "source": [
        ""
      ],
      "execution_count": null,
      "outputs": []
    },
    {
      "cell_type": "code",
      "metadata": {
        "id": "paTXIj-oGJ5L",
        "colab_type": "code",
        "colab": {}
      },
      "source": [
        ""
      ],
      "execution_count": null,
      "outputs": []
    },
    {
      "cell_type": "code",
      "metadata": {
        "id": "3ab0sm26GJ5Y",
        "colab_type": "code",
        "colab": {}
      },
      "source": [
        ""
      ],
      "execution_count": null,
      "outputs": []
    },
    {
      "cell_type": "markdown",
      "metadata": {
        "id": "3B29kUQqpFXq",
        "colab_type": "text"
      },
      "source": [
        "# Step 5: Model Hyperparams Updates"
      ]
    },
    {
      "cell_type": "markdown",
      "metadata": {
        "id": "HG6m85_A7HJS",
        "colab_type": "text"
      },
      "source": [
        "## Second model with RMSprop"
      ]
    },
    {
      "cell_type": "code",
      "metadata": {
        "colab_type": "code",
        "id": "SF1vCaMp695Y",
        "colab": {
          "base_uri": "https://localhost:8080/",
          "height": 666
        },
        "outputId": "f7502822-df13-426a-f1fd-fd749acbfbe3"
      },
      "source": [
        "np.random.seed(111)\n",
        "\n",
        "from keras import layers\n",
        "from keras import models\n",
        "from keras import optimizers\n",
        "import datetime\n",
        "\n",
        "\n",
        "# timer for model\n",
        "start = datetime.datetime.now()\n",
        "\n",
        "# Initialising the CNN\n",
        "rms_model = Sequential()\n",
        "\n",
        "# Step 1 - Convolution\n",
        "rms_model.add(layers.Conv2D(SHAPES['Batchsize'], (3, 3),\n",
        "                      input_shape = (SHAPES['img_width'], \n",
        "                                     SHAPES['img_height'],\n",
        "                                     SHAPES['img_dim']),\n",
        "                       activation = 'relu'))\n",
        "# Step 2 - Pooling\n",
        "rms_model.add(layers.MaxPooling2D(pool_size = (2, 2)))\n",
        "\n",
        "# Adding a second convolutional layer\n",
        "rms_model.add(layers.Conv2D(SHAPES['Batchsize'], (3, 3),\n",
        "                      activation = 'relu'))\n",
        "rms_model.add(layers.MaxPooling2D(pool_size = (2, 2)))\n",
        "\n",
        "# Step 3 - Flattening\n",
        "rms_model.add(layers.Flatten())\n",
        "\n",
        "# Step 4 - Full connection\n",
        "rms_model.add(layers.Dense(units = SHAPES['Batchsize'], activation = 'relu'))\n",
        "\n",
        "rms_model.add(layers.Dense(units = 1, activation = 'sigmoid'))\n",
        "\n",
        "# Compiling the CNN\n",
        "rms_model.compile(optimizer = 'rmsprop', \n",
        "                   loss = 'binary_crossentropy',\n",
        "                   metrics = ['acc'])\n",
        "print()\n",
        "display(rms_model.summary())\n",
        "\n",
        "# Fitting the CNN to the images using fit_generator\n",
        "rms_history = rms_model.fit_generator(training_set,\n",
        "                             steps_per_epoch = 500,\n",
        "                             epochs = 6,\n",
        "                             validation_data = test_set,\n",
        "                             validation_steps =100, verbose=1, workers=-1)\n",
        "# end timer\n",
        "end = datetime.datetime.now()\n",
        "elapsed = end - start\n",
        "print('Training took a total of {}'.format(elapsed))                              "
      ],
      "execution_count": 25,
      "outputs": [
        {
          "output_type": "stream",
          "text": [
            "\n",
            "Model: \"sequential_2\"\n",
            "_________________________________________________________________\n",
            "Layer (type)                 Output Shape              Param #   \n",
            "=================================================================\n",
            "conv2d_3 (Conv2D)            (None, 62, 62, 100)       2800      \n",
            "_________________________________________________________________\n",
            "max_pooling2d_3 (MaxPooling2 (None, 31, 31, 100)       0         \n",
            "_________________________________________________________________\n",
            "conv2d_4 (Conv2D)            (None, 29, 29, 100)       90100     \n",
            "_________________________________________________________________\n",
            "max_pooling2d_4 (MaxPooling2 (None, 14, 14, 100)       0         \n",
            "_________________________________________________________________\n",
            "flatten_2 (Flatten)          (None, 19600)             0         \n",
            "_________________________________________________________________\n",
            "dense_3 (Dense)              (None, 100)               1960100   \n",
            "_________________________________________________________________\n",
            "dense_4 (Dense)              (None, 1)                 101       \n",
            "=================================================================\n",
            "Total params: 2,053,101\n",
            "Trainable params: 2,053,101\n",
            "Non-trainable params: 0\n",
            "_________________________________________________________________\n"
          ],
          "name": "stdout"
        },
        {
          "output_type": "display_data",
          "data": {
            "text/plain": [
              "None"
            ]
          },
          "metadata": {
            "tags": []
          }
        },
        {
          "output_type": "stream",
          "text": [
            "Epoch 1/6\n",
            "500/500 [==============================] - 56s 111ms/step - loss: 0.3371 - acc: 0.8692 - val_loss: 1.1986 - val_acc: 0.6266\n",
            "Epoch 2/6\n",
            "500/500 [==============================] - 55s 109ms/step - loss: 0.1601 - acc: 0.9396 - val_loss: 0.1494 - val_acc: 0.9237\n",
            "Epoch 3/6\n",
            "500/500 [==============================] - 55s 110ms/step - loss: 0.1090 - acc: 0.9589 - val_loss: 0.3512 - val_acc: 0.9024\n",
            "Epoch 4/6\n",
            "500/500 [==============================] - 55s 109ms/step - loss: 0.0812 - acc: 0.9691 - val_loss: 0.4857 - val_acc: 0.9167\n",
            "Epoch 5/6\n",
            "500/500 [==============================] - 54s 109ms/step - loss: 0.0648 - acc: 0.9758 - val_loss: 0.5678 - val_acc: 0.8981\n",
            "Epoch 6/6\n",
            "500/500 [==============================] - 55s 110ms/step - loss: 0.0501 - acc: 0.9820 - val_loss: 0.1822 - val_acc: 0.9157\n",
            "Training took a total of 0:05:29.257752\n"
          ],
          "name": "stdout"
        }
      ]
    },
    {
      "cell_type": "code",
      "metadata": {
        "colab_type": "code",
        "id": "yD0RkN0i695s",
        "colab": {
          "base_uri": "https://localhost:8080/",
          "height": 34
        },
        "outputId": "43266a87-3995-42dc-8246-e8146827fe53"
      },
      "source": [
        "results_train = rms_model.evaluate(X_train, y_train)"
      ],
      "execution_count": 26,
      "outputs": [
        {
          "output_type": "stream",
          "text": [
            "4759/4759 [==============================] - 1s 117us/step\n"
          ],
          "name": "stdout"
        }
      ]
    },
    {
      "cell_type": "code",
      "metadata": {
        "colab_type": "code",
        "id": "5lqiW5B6695x",
        "colab": {
          "base_uri": "https://localhost:8080/",
          "height": 34
        },
        "outputId": "c357f721-ceda-4c52-e1ab-79efea74041e"
      },
      "source": [
        "results_test = rms_model.evaluate(X_test, y_test)"
      ],
      "execution_count": 27,
      "outputs": [
        {
          "output_type": "stream",
          "text": [
            "624/624 [==============================] - 0s 117us/step\n"
          ],
          "name": "stdout"
        }
      ]
    },
    {
      "cell_type": "code",
      "metadata": {
        "colab_type": "code",
        "id": "2Dp0iC6j6951",
        "colab": {
          "base_uri": "https://localhost:8080/",
          "height": 34
        },
        "outputId": "42d405c6-3557-4284-8fb8-41dfbd58ca24"
      },
      "source": [
        "# training loss and accuracy\n",
        "results_train"
      ],
      "execution_count": 28,
      "outputs": [
        {
          "output_type": "execute_result",
          "data": {
            "text/plain": [
              "[34.32647022817235, 0.9689010381698608]"
            ]
          },
          "metadata": {
            "tags": []
          },
          "execution_count": 28
        }
      ]
    },
    {
      "cell_type": "code",
      "metadata": {
        "colab_type": "code",
        "id": "XNKHHlHv6956",
        "colab": {
          "base_uri": "https://localhost:8080/",
          "height": 34
        },
        "outputId": "a1e636d5-393e-43bf-9a9d-78f6a8033331"
      },
      "source": [
        "# test loss and accuracy\n",
        "results_test"
      ],
      "execution_count": 29,
      "outputs": [
        {
          "output_type": "execute_result",
          "data": {
            "text/plain": [
              "[441.90555634024815, 0.8237179517745972]"
            ]
          },
          "metadata": {
            "tags": []
          },
          "execution_count": 29
        }
      ]
    },
    {
      "cell_type": "markdown",
      "metadata": {
        "id": "WREX8RF3JUHe",
        "colab_type": "text"
      },
      "source": [
        "HOW TO SAVE h5 model"
      ]
    },
    {
      "cell_type": "code",
      "metadata": {
        "colab_type": "code",
        "id": "XV-gJJhD696C",
        "colab": {}
      },
      "source": [
        "# # Your code here; save the model for future reference \n",
        "# model.save('chest_xray_downsampled_data.h5')\n"
      ],
      "execution_count": null,
      "outputs": []
    },
    {
      "cell_type": "markdown",
      "metadata": {
        "id": "qUjf0B_wxPOB",
        "colab_type": "text"
      },
      "source": [
        "HOW TO LOAD A PREVIOUS SAVED h5 model"
      ]
    },
    {
      "cell_type": "code",
      "metadata": {
        "id": "ZepOVgVUxMm3",
        "colab_type": "code",
        "colab": {}
      },
      "source": [
        "# from keras.models import load_model\n",
        "\n",
        "# model = load_model('chest_xray_all_data.h5')\n",
        "# # As a reminder \n",
        "# model.summary()  "
      ],
      "execution_count": null,
      "outputs": []
    },
    {
      "cell_type": "markdown",
      "metadata": {
        "colab_type": "text",
        "id": "cgxSg4WU696G"
      },
      "source": [
        "### Visualize accuracy and loss"
      ]
    },
    {
      "cell_type": "code",
      "metadata": {
        "colab_type": "code",
        "id": "2y9XYvSR696H",
        "colab": {
          "base_uri": "https://localhost:8080/",
          "height": 545
        },
        "outputId": "abe6dc78-f31b-4539-fc37-669754526072"
      },
      "source": [
        "# view baseline cnn results evaluate\n",
        "import matplotlib.pyplot as plt\n",
        "%matplotlib inline \n",
        "\n",
        "train_acc = rms_history.history['acc']\n",
        "test_acc = rms_history.history['val_acc']\n",
        "train_loss = rms_history.history['loss']\n",
        "test_loss = rms_history.history['val_loss']\n",
        "epochs = range(len(train_acc))\n",
        "plt.plot(epochs, train_acc, 'bo', label='Training acc')\n",
        "plt.plot(epochs, test_acc, 'b', label='Test acc')\n",
        "plt.title('Training and Testing accuracy')\n",
        "plt.legend()\n",
        "plt.figure()\n",
        "plt.plot(epochs, train_loss, 'bo', label='Training loss')\n",
        "plt.plot(epochs, test_loss, 'b', label='Test loss')\n",
        "plt.title('Training and Testing loss')\n",
        "plt.legend()\n",
        "plt.show()"
      ],
      "execution_count": 30,
      "outputs": [
        {
          "output_type": "display_data",
          "data": {
            "image/png": "[encoded data removed]",
            "text/plain": [
              "<Figure size 432x288 with 1 Axes>"
            ]
          },
          "metadata": {
            "tags": [],
            "needs_background": "light"
          }
        },
        {
          "output_type": "display_data",
          "data": {
            "image/png": "[encoded data removed]",
            "text/plain": [
              "<Figure size 432x288 with 1 Axes>"
            ]
          },
          "metadata": {
            "tags": [],
            "needs_background": "light"
          }
        }
      ]
    },
    {
      "cell_type": "markdown",
      "metadata": {
        "colab_type": "text",
        "id": "OibB-fEr696M"
      },
      "source": [
        "### Visualize confusion matrix"
      ]
    },
    {
      "cell_type": "code",
      "metadata": {
        "colab_type": "code",
        "id": "32Tf0bs1696N",
        "colab": {
          "base_uri": "https://localhost:8080/",
          "height": 557
        },
        "outputId": "6ae6d6cc-c9ae-4faa-c5f2-fd88abc48730"
      },
      "source": [
        "import sklearn.metrics as metrics\n",
        "# from mod3 project\n",
        "def evaluate_model(y_test, y_pred,model_history=None):\n",
        "    \"\"\"Takes in your target, target predictions, model history.\n",
        "        Returns a metric report and confusion matrix.\"\"\"\n",
        "    \n",
        "    ## Classification Report / Scores \n",
        "    print(metrics.classification_report(y_test,y_pred))\n",
        "\n",
        "    # subplot for confusion matrix\n",
        "    fig, ax = plt.subplots(figsize=(12,6))\n",
        "    cm = metrics.confusion_matrix(y_test,y_pred)\n",
        "\n",
        "    plt.imshow(cm, interpolation='nearest', cmap='Blues')\n",
        "    plt.title('Confusion Matrix. 0=Norm, 1=Pneum')\n",
        "    plt.colorbar()\n",
        "    plt.ylabel('True label')\n",
        "    plt.xlabel('Predicted label')\n",
        "\n",
        "    classes = list(range(len(cm)))  \n",
        "    plt.xticks(classes, classes)\n",
        "    plt.yticks(classes, classes)\n",
        "\n",
        "\n",
        "    plt.show()\n",
        "\n",
        "y_preds = rms_model.predict_classes(X_test).flatten()\n",
        "\n",
        "evaluate_model(y_test,y_preds,rms_history)\n"
      ],
      "execution_count": 31,
      "outputs": [
        {
          "output_type": "stream",
          "text": [
            "              precision    recall  f1-score   support\n",
            "\n",
            "           0       0.96      0.55      0.70       234\n",
            "           1       0.79      0.99      0.88       390\n",
            "\n",
            "    accuracy                           0.82       624\n",
            "   macro avg       0.87      0.77      0.79       624\n",
            "weighted avg       0.85      0.82      0.81       624\n",
            "\n"
          ],
          "name": "stdout"
        },
        {
          "output_type": "display_data",
          "data": {
            "image/png": "[encoded data removed]",
            "text/plain": [
              "<Figure size 864x432 with 2 Axes>"
            ]
          },
          "metadata": {
            "tags": [],
            "needs_background": "light"
          }
        }
      ]
    },
    {
      "cell_type": "markdown",
      "metadata": {
        "id": "Ev8jtG_4BHL-",
        "colab_type": "text"
      },
      "source": [
        "### Interpreting Results"
      ]
    },
    {
      "cell_type": "markdown",
      "metadata": {
        "id": "_JioQq5J-1tN",
        "colab_type": "text"
      },
      "source": [
        "Model.evaluate shows my test accuracy at 77% and loss at 607%. Is that possible? Seems like epoch 4 was the best when looking over the graphs. My metrics classification report from sklearn also shows my accuracy at 77% with an excellent recall of 99% of pneumonia diagnosis. "
      ]
    },
    {
      "cell_type": "markdown",
      "metadata": {
        "id": "u6rDPtpGAiKF",
        "colab_type": "text"
      },
      "source": [
        "## Third model with ADAM"
      ]
    },
    {
      "cell_type": "code",
      "metadata": {
        "colab_type": "code",
        "id": "fYxOnvoxAPxF",
        "colab": {
          "base_uri": "https://localhost:8080/",
          "height": 666
        },
        "outputId": "f059e0ff-0355-4ed4-d0c4-5d005bcbb282"
      },
      "source": [
        "np.random.seed(111)\n",
        "\n",
        "from keras import layers\n",
        "from keras import models\n",
        "from keras import optimizers\n",
        "import datetime\n",
        "\n",
        "\n",
        "# timer for model\n",
        "start = datetime.datetime.now()\n",
        "\n",
        "# Initialising the CNN\n",
        "adam_model = Sequential()\n",
        "\n",
        "# Step 1 - Convolution\n",
        "adam_model.add(layers.Conv2D(SHAPES['Batchsize'], (3, 3),\n",
        "                      input_shape = (SHAPES['img_width'], \n",
        "                                     SHAPES['img_height'],\n",
        "                                     SHAPES['img_dim']),\n",
        "                       activation = 'relu'))\n",
        "# Step 2 - Pooling\n",
        "adam_model.add(layers.MaxPooling2D(pool_size = (2, 2)))\n",
        "\n",
        "# Adding a second convolutional layer\n",
        "adam_model.add(layers.Conv2D(SHAPES['Batchsize'], (3, 3),\n",
        "                      activation = 'relu'))\n",
        "adam_model.add(layers.MaxPooling2D(pool_size = (2, 2)))\n",
        "\n",
        "# Step 3 - Flattening\n",
        "adam_model.add(layers.Flatten())\n",
        "\n",
        "# Step 4 - Full connection\n",
        "adam_model.add(layers.Dense(units = SHAPES['Batchsize'], activation = 'relu'))\n",
        "\n",
        "adam_model.add(layers.Dense(units = 1, activation = 'sigmoid'))\n",
        "\n",
        "# Compiling the CNN\n",
        "adam_model.compile(optimizer = 'adam', \n",
        "                   loss = 'binary_crossentropy',\n",
        "                   metrics = ['acc'])\n",
        "print()\n",
        "display(adam_model.summary())\n",
        "\n",
        "# Fitting the CNN to the images using fit_generator\n",
        "adam_history = adam_model.fit_generator(training_set,\n",
        "                             steps_per_epoch = 500,\n",
        "                             epochs = 6,\n",
        "                             validation_data = test_set,\n",
        "                             validation_steps =100, verbose=1, workers=-1)\n",
        "# end timer\n",
        "end = datetime.datetime.now()\n",
        "elapsed = end - start\n",
        "print('Training took a total of {}'.format(elapsed))                              "
      ],
      "execution_count": 32,
      "outputs": [
        {
          "output_type": "stream",
          "text": [
            "\n",
            "Model: \"sequential_3\"\n",
            "_________________________________________________________________\n",
            "Layer (type)                 Output Shape              Param #   \n",
            "=================================================================\n",
            "conv2d_5 (Conv2D)            (None, 62, 62, 100)       2800      \n",
            "_________________________________________________________________\n",
            "max_pooling2d_5 (MaxPooling2 (None, 31, 31, 100)       0         \n",
            "_________________________________________________________________\n",
            "conv2d_6 (Conv2D)            (None, 29, 29, 100)       90100     \n",
            "_________________________________________________________________\n",
            "max_pooling2d_6 (MaxPooling2 (None, 14, 14, 100)       0         \n",
            "_________________________________________________________________\n",
            "flatten_3 (Flatten)          (None, 19600)             0         \n",
            "_________________________________________________________________\n",
            "dense_5 (Dense)              (None, 100)               1960100   \n",
            "_________________________________________________________________\n",
            "dense_6 (Dense)              (None, 1)                 101       \n",
            "=================================================================\n",
            "Total params: 2,053,101\n",
            "Trainable params: 2,053,101\n",
            "Non-trainable params: 0\n",
            "_________________________________________________________________\n"
          ],
          "name": "stdout"
        },
        {
          "output_type": "display_data",
          "data": {
            "text/plain": [
              "None"
            ]
          },
          "metadata": {
            "tags": []
          }
        },
        {
          "output_type": "stream",
          "text": [
            "Epoch 1/6\n",
            "500/500 [==============================] - 55s 110ms/step - loss: 0.2080 - acc: 0.9152 - val_loss: 0.4312 - val_acc: 0.8860\n",
            "Epoch 2/6\n",
            "500/500 [==============================] - 55s 109ms/step - loss: 0.1153 - acc: 0.9557 - val_loss: 0.3244 - val_acc: 0.9138\n",
            "Epoch 3/6\n",
            "500/500 [==============================] - 55s 109ms/step - loss: 0.0926 - acc: 0.9647 - val_loss: 0.4568 - val_acc: 0.9078\n",
            "Epoch 4/6\n",
            "500/500 [==============================] - 55s 110ms/step - loss: 0.0771 - acc: 0.9710 - val_loss: 0.0834 - val_acc: 0.9139\n",
            "Epoch 5/6\n",
            "500/500 [==============================] - 55s 109ms/step - loss: 0.0634 - acc: 0.9761 - val_loss: 0.4940 - val_acc: 0.9066\n",
            "Epoch 6/6\n",
            "500/500 [==============================] - 55s 109ms/step - loss: 0.0516 - acc: 0.9811 - val_loss: 0.6459 - val_acc: 0.8716\n",
            "Training took a total of 0:05:28.934625\n"
          ],
          "name": "stdout"
        }
      ]
    },
    {
      "cell_type": "code",
      "metadata": {
        "colab_type": "code",
        "id": "7pZhiHkzAPxP",
        "colab": {
          "base_uri": "https://localhost:8080/",
          "height": 34
        },
        "outputId": "f3503781-8afe-4b3d-b48c-3b323ac69b52"
      },
      "source": [
        "results_train = adam_model.evaluate(X_train, y_train)"
      ],
      "execution_count": 33,
      "outputs": [
        {
          "output_type": "stream",
          "text": [
            "4759/4759 [==============================] - 1s 121us/step\n"
          ],
          "name": "stdout"
        }
      ]
    },
    {
      "cell_type": "code",
      "metadata": {
        "colab_type": "code",
        "id": "k_AAnMIzAPxU",
        "colab": {
          "base_uri": "https://localhost:8080/",
          "height": 34
        },
        "outputId": "42068e88-72d6-43db-b0e6-52828f2aa0e2"
      },
      "source": [
        "results_test = adam_model.evaluate(X_test, y_test)"
      ],
      "execution_count": 34,
      "outputs": [
        {
          "output_type": "stream",
          "text": [
            "624/624 [==============================] - 0s 146us/step\n"
          ],
          "name": "stdout"
        }
      ]
    },
    {
      "cell_type": "code",
      "metadata": {
        "colab_type": "code",
        "id": "KUiBeY5dAPxY",
        "colab": {
          "base_uri": "https://localhost:8080/",
          "height": 34
        },
        "outputId": "fd63142d-b8fe-46b9-86d7-f58c585d5a99"
      },
      "source": [
        "# training loss and accuracy\n",
        "results_train"
      ],
      "execution_count": 35,
      "outputs": [
        {
          "output_type": "execute_result",
          "data": {
            "text/plain": [
              "[17.60403391432601, 0.9682706594467163]"
            ]
          },
          "metadata": {
            "tags": []
          },
          "execution_count": 35
        }
      ]
    },
    {
      "cell_type": "code",
      "metadata": {
        "colab_type": "code",
        "id": "aJzxwzxsAPxc",
        "colab": {
          "base_uri": "https://localhost:8080/",
          "height": 34
        },
        "outputId": "f9e8b7d9-fc74-45a9-f453-01ac6ff289ba"
      },
      "source": [
        "# test loss and accuracy\n",
        "results_test"
      ],
      "execution_count": 36,
      "outputs": [
        {
          "output_type": "execute_result",
          "data": {
            "text/plain": [
              "[178.61337060194748, 0.8621794581413269]"
            ]
          },
          "metadata": {
            "tags": []
          },
          "execution_count": 36
        }
      ]
    },
    {
      "cell_type": "code",
      "metadata": {
        "colab_type": "code",
        "id": "psJ7PG26APxg",
        "colab": {}
      },
      "source": [
        "# # Your code here; save the model for future reference \n",
        "# model.save('chest_xray_downsampled_data.h5')\n"
      ],
      "execution_count": null,
      "outputs": []
    },
    {
      "cell_type": "markdown",
      "metadata": {
        "colab_type": "text",
        "id": "k7z7ulX4APxn"
      },
      "source": [
        "### Visualize accuracy and loss"
      ]
    },
    {
      "cell_type": "code",
      "metadata": {
        "colab_type": "code",
        "id": "KJnlKEG4APxo",
        "colab": {
          "base_uri": "https://localhost:8080/",
          "height": 545
        },
        "outputId": "c0a9df9e-5895-4367-a761-295d86f2e540"
      },
      "source": [
        "# view baseline cnn results evaluate\n",
        "import matplotlib.pyplot as plt\n",
        "%matplotlib inline \n",
        "\n",
        "train_acc = adam_history.history['acc']\n",
        "test_acc = adam_history.history['val_acc']\n",
        "train_loss = adam_history.history['loss']\n",
        "test_loss = adam_history.history['val_loss']\n",
        "epochs = range(len(train_acc))\n",
        "plt.plot(epochs, train_acc, 'bo', label='Training acc')\n",
        "plt.plot(epochs, test_acc, 'b', label='Test acc')\n",
        "plt.title('Training and Testing accuracy')\n",
        "plt.legend()\n",
        "plt.figure()\n",
        "plt.plot(epochs, train_loss, 'bo', label='Training loss')\n",
        "plt.plot(epochs, test_loss, 'b', label='Test loss')\n",
        "plt.title('Training and Testing loss')\n",
        "plt.legend()\n",
        "plt.show()"
      ],
      "execution_count": 37,
      "outputs": [
        {
          "output_type": "display_data",
          "data": {
            "image/png": "[encoded data removed]",
            "text/plain": [
              "<Figure size 432x288 with 1 Axes>"
            ]
          },
          "metadata": {
            "tags": [],
            "needs_background": "light"
          }
        },
        {
          "output_type": "display_data",
          "data": {
            "image/png": "[encoded data removed]",
            "text/plain": [
              "<Figure size 432x288 with 1 Axes>"
            ]
          },
          "metadata": {
            "tags": [],
            "needs_background": "light"
          }
        }
      ]
    },
    {
      "cell_type": "markdown",
      "metadata": {
        "colab_type": "text",
        "id": "A1DwnXJmAPxu"
      },
      "source": [
        "### Visualize confusion matrix"
      ]
    },
    {
      "cell_type": "code",
      "metadata": {
        "colab_type": "code",
        "id": "vJaQ_32WAPxv",
        "colab": {
          "base_uri": "https://localhost:8080/",
          "height": 557
        },
        "outputId": "b55567f8-82aa-457b-9b23-549fe5d0f8da"
      },
      "source": [
        "import sklearn.metrics as metrics\n",
        "# from mod3 project\n",
        "def evaluate_model(y_test, y_pred,model_history=None):\n",
        "    \"\"\"Takes in your target, target predictions, model history.\n",
        "        Returns a metric report and confusion matrix.\"\"\"\n",
        "    \n",
        "    ## Classification Report / Scores \n",
        "    print(metrics.classification_report(y_test,y_pred))\n",
        "\n",
        "    # subplot for confusion matrix\n",
        "    fig, ax = plt.subplots(figsize=(12,6))\n",
        "    cm = metrics.confusion_matrix(y_test,y_pred)\n",
        "\n",
        "    plt.imshow(cm, interpolation='nearest', cmap='Blues')\n",
        "    plt.title('Confusion Matrix. 0=Norm, 1=Pneum')\n",
        "    plt.colorbar()\n",
        "    plt.ylabel('True label')\n",
        "    plt.xlabel('Predicted label')\n",
        "\n",
        "    classes = list(range(len(cm)))  \n",
        "    plt.xticks(classes, classes)\n",
        "    plt.yticks(classes, classes)\n",
        "\n",
        "\n",
        "    plt.show()\n",
        "\n",
        "y_preds = adam_model.predict_classes(X_test).flatten()\n",
        "\n",
        "evaluate_model(y_test,y_preds,adam_history)\n"
      ],
      "execution_count": 38,
      "outputs": [
        {
          "output_type": "stream",
          "text": [
            "              precision    recall  f1-score   support\n",
            "\n",
            "           0       0.96      0.66      0.78       234\n",
            "           1       0.83      0.98      0.90       390\n",
            "\n",
            "    accuracy                           0.86       624\n",
            "   macro avg       0.89      0.82      0.84       624\n",
            "weighted avg       0.88      0.86      0.86       624\n",
            "\n"
          ],
          "name": "stdout"
        },
        {
          "output_type": "display_data",
          "data": {
            "image/png": "[encoded data removed]",
            "text/plain": [
              "<Figure size 864x432 with 2 Axes>"
            ]
          },
          "metadata": {
            "tags": [],
            "needs_background": "light"
          }
        }
      ]
    },
    {
      "cell_type": "markdown",
      "metadata": {
        "id": "FNho08weBLG2",
        "colab_type": "text"
      },
      "source": [
        "### Interpreting Results"
      ]
    },
    {
      "cell_type": "markdown",
      "metadata": {
        "id": "T-3VfY8eALAe",
        "colab_type": "text"
      },
      "source": [
        "Model.evaluate shows my test accuracy at 86% and loss at 210%. Seems like epoch 4 was the best when looking over the graphs. My metrics classification report from sklearn also shows my accuracy at 86% with a good recall of 99% of pneumonia diagnosis. "
      ]
    },
    {
      "cell_type": "markdown",
      "metadata": {
        "id": "RLfGFSOZB4JE",
        "colab_type": "text"
      },
      "source": [
        "Best model so far for recall was adam and rms with 99% Why is that loss so high though? I'm going to move forward with the adam optimizer for it's generally high 99% recall and see what I can do about that loss. Better f1 score on adam. \n",
        "\n",
        "- baseline sgd\n",
        "test accuracy at 84% and loss at 73%. sklearn also shows my accuracy at 84% with an excellent recall of 97% of pneumonia diagnosis.  \n",
        "- rmsprop\n",
        "test accuracy at 77% and loss at 607%. sklearn also shows my accuracy at 77% with an excellent recall of 99% of pneumonia diagnosis.  \n",
        "- adam\n",
        "test accuracy at 86% and loss at 210%. sklearn also shows my accuracy at 86% with a good recall of 99% of pneumonia diagnosis. "
      ]
    },
    {
      "cell_type": "markdown",
      "metadata": {
        "colab_type": "text",
        "id": "_weKy5mQIRC5"
      },
      "source": [
        "## Fourth model with ADAM. Add Dropout. "
      ]
    },
    {
      "cell_type": "code",
      "metadata": {
        "colab_type": "code",
        "id": "xJEw5IKEIRC9",
        "colab": {
          "base_uri": "https://localhost:8080/",
          "height": 768
        },
        "outputId": "17451df2-df7b-4bef-edf7-39df5e5cd385"
      },
      "source": [
        "np.random.seed(111)\n",
        "\n",
        "from keras import layers\n",
        "from keras import models\n",
        "from keras import optimizers\n",
        "import datetime\n",
        "\n",
        "\n",
        "# timer for model\n",
        "start = datetime.datetime.now()\n",
        "\n",
        "# Initialising the CNN\n",
        "adam_drop_model = Sequential()\n",
        "\n",
        "# Step 1 - Convolution\n",
        "adam_drop_model.add(layers.Conv2D(SHAPES['Batchsize'], (3, 3),\n",
        "                      input_shape = (SHAPES['img_width'], \n",
        "                                     SHAPES['img_height'],\n",
        "                                     SHAPES['img_dim']),\n",
        "                       activation = 'relu'))\n",
        "# Step 2 - Pooling\n",
        "adam_drop_model.add(layers.MaxPooling2D(pool_size = (2, 2)))\n",
        "\n",
        "# Adding a second convolutional layer\n",
        "adam_drop_model.add(layers.Conv2D(SHAPES['Batchsize'], (3, 3),\n",
        "                      activation = 'relu'))\n",
        "adam_drop_model.add(layers.MaxPooling2D(pool_size = (2, 2)))\n",
        "\n",
        "# Step 3 - Flattening\n",
        "adam_drop_model.add(layers.Flatten())\n",
        "\n",
        "# Step 4 - Full connection with dropout\n",
        "adam_drop_model.add(layers.Dense(units = SHAPES['Batchsize'], activation = 'relu'))\n",
        "\n",
        "# Dropout applied to the full connection layer\n",
        "adam_drop_model.add(layers.Dropout(0.3))\n",
        "\n",
        "# Step 5 - Full connection with dropout\n",
        "adam_drop_model.add(layers.Dense(units = SHAPES['Batchsize'], activation = 'relu'))\n",
        "\n",
        "# Dropout applied to the full connection layer\n",
        "adam_drop_model.add(layers.Dropout(0.3))\n",
        "\n",
        "# output\n",
        "adam_drop_model.add(layers.Dense(units = 1, activation = 'sigmoid'))\n",
        "\n",
        "# Compiling the CNN\n",
        "adam_drop_model.compile(optimizer = 'adam', \n",
        "                   loss = 'binary_crossentropy',\n",
        "                   metrics = ['acc'])\n",
        "print()\n",
        "display(adam_drop_model.summary())\n",
        "\n",
        "# Fitting the CNN to the images using fit_generator\n",
        "adam_drop_history = adam_drop_model.fit_generator(training_set,\n",
        "                             steps_per_epoch = 500,\n",
        "                             epochs = 6,\n",
        "                             validation_data = test_set,\n",
        "                             validation_steps =100, verbose=1, workers=-1)\n",
        "# end timer\n",
        "end = datetime.datetime.now()\n",
        "elapsed = end - start\n",
        "print('Training took a total of {}'.format(elapsed))                              "
      ],
      "execution_count": 39,
      "outputs": [
        {
          "output_type": "stream",
          "text": [
            "\n",
            "Model: \"sequential_4\"\n",
            "_________________________________________________________________\n",
            "Layer (type)                 Output Shape              Param #   \n",
            "=================================================================\n",
            "conv2d_7 (Conv2D)            (None, 62, 62, 100)       2800      \n",
            "_________________________________________________________________\n",
            "max_pooling2d_7 (MaxPooling2 (None, 31, 31, 100)       0         \n",
            "_________________________________________________________________\n",
            "conv2d_8 (Conv2D)            (None, 29, 29, 100)       90100     \n",
            "_________________________________________________________________\n",
            "max_pooling2d_8 (MaxPooling2 (None, 14, 14, 100)       0         \n",
            "_________________________________________________________________\n",
            "flatten_4 (Flatten)          (None, 19600)             0         \n",
            "_________________________________________________________________\n",
            "dense_7 (Dense)              (None, 100)               1960100   \n",
            "_________________________________________________________________\n",
            "dropout_1 (Dropout)          (None, 100)               0         \n",
            "_________________________________________________________________\n",
            "dense_8 (Dense)              (None, 100)               10100     \n",
            "_________________________________________________________________\n",
            "dropout_2 (Dropout)          (None, 100)               0         \n",
            "_________________________________________________________________\n",
            "dense_9 (Dense)              (None, 1)                 101       \n",
            "=================================================================\n",
            "Total params: 2,063,201\n",
            "Trainable params: 2,063,201\n",
            "Non-trainable params: 0\n",
            "_________________________________________________________________\n"
          ],
          "name": "stdout"
        },
        {
          "output_type": "display_data",
          "data": {
            "text/plain": [
              "None"
            ]
          },
          "metadata": {
            "tags": []
          }
        },
        {
          "output_type": "stream",
          "text": [
            "Epoch 1/6\n",
            "500/500 [==============================] - 55s 110ms/step - loss: 0.2249 - acc: 0.9093 - val_loss: 0.2140 - val_acc: 0.8906\n",
            "Epoch 2/6\n",
            "500/500 [==============================] - 55s 110ms/step - loss: 0.1261 - acc: 0.9537 - val_loss: 0.1027 - val_acc: 0.9060\n",
            "Epoch 3/6\n",
            "500/500 [==============================] - 55s 110ms/step - loss: 0.1036 - acc: 0.9620 - val_loss: 0.6806 - val_acc: 0.8591\n",
            "Epoch 4/6\n",
            "500/500 [==============================] - 55s 110ms/step - loss: 0.0875 - acc: 0.9676 - val_loss: 0.5446 - val_acc: 0.9161\n",
            "Epoch 5/6\n",
            "500/500 [==============================] - 55s 111ms/step - loss: 0.0740 - acc: 0.9729 - val_loss: 0.2783 - val_acc: 0.9249\n",
            "Epoch 6/6\n",
            "500/500 [==============================] - 55s 109ms/step - loss: 0.0659 - acc: 0.9770 - val_loss: 0.5139 - val_acc: 0.9006\n",
            "Training took a total of 0:05:30.617854\n"
          ],
          "name": "stdout"
        }
      ]
    },
    {
      "cell_type": "code",
      "metadata": {
        "colab_type": "code",
        "id": "NIFQbkuAIRDG",
        "colab": {
          "base_uri": "https://localhost:8080/",
          "height": 34
        },
        "outputId": "4441069b-d137-4e19-d8fc-810cbd3d21ad"
      },
      "source": [
        "results_train = adam_drop_model.evaluate(X_train, y_train)"
      ],
      "execution_count": 40,
      "outputs": [
        {
          "output_type": "stream",
          "text": [
            "4759/4759 [==============================] - 1s 123us/step\n"
          ],
          "name": "stdout"
        }
      ]
    },
    {
      "cell_type": "code",
      "metadata": {
        "colab_type": "code",
        "id": "1K5H6YdWIRDL",
        "colab": {
          "base_uri": "https://localhost:8080/",
          "height": 34
        },
        "outputId": "ff5395ce-5b6a-43bb-ca37-d58e236f204f"
      },
      "source": [
        "results_test = adam_drop_model.evaluate(X_test, y_test)"
      ],
      "execution_count": 41,
      "outputs": [
        {
          "output_type": "stream",
          "text": [
            "624/624 [==============================] - 0s 126us/step\n"
          ],
          "name": "stdout"
        }
      ]
    },
    {
      "cell_type": "code",
      "metadata": {
        "colab_type": "code",
        "id": "8ogkhxzsIRDV",
        "colab": {
          "base_uri": "https://localhost:8080/",
          "height": 34
        },
        "outputId": "28925c61-20c1-4377-b363-143c96fd3d9e"
      },
      "source": [
        "# training loss and accuracy\n",
        "results_train"
      ],
      "execution_count": 42,
      "outputs": [
        {
          "output_type": "execute_result",
          "data": {
            "text/plain": [
              "[10.746086222173949, 0.9691111445426941]"
            ]
          },
          "metadata": {
            "tags": []
          },
          "execution_count": 42
        }
      ]
    },
    {
      "cell_type": "code",
      "metadata": {
        "colab_type": "code",
        "id": "5A4G7ynLIRDa",
        "colab": {
          "base_uri": "https://localhost:8080/",
          "height": 34
        },
        "outputId": "3f346e6f-e4b9-4898-f401-c178c41187ca"
      },
      "source": [
        "# test loss and accuracy\n",
        "results_test"
      ],
      "execution_count": 43,
      "outputs": [
        {
          "output_type": "execute_result",
          "data": {
            "text/plain": [
              "[133.61955882341434, 0.8605769276618958]"
            ]
          },
          "metadata": {
            "tags": []
          },
          "execution_count": 43
        }
      ]
    },
    {
      "cell_type": "code",
      "metadata": {
        "colab_type": "code",
        "id": "t6Guia9bIRDf",
        "colab": {}
      },
      "source": [
        "# # Your code here; save the model for future reference \n",
        "# model.save('chest_xray_downsampled_data.h5')\n"
      ],
      "execution_count": null,
      "outputs": []
    },
    {
      "cell_type": "markdown",
      "metadata": {
        "colab_type": "text",
        "id": "K5Rd5s5EIRDn"
      },
      "source": [
        "### Visualize accuracy and loss"
      ]
    },
    {
      "cell_type": "code",
      "metadata": {
        "colab_type": "code",
        "id": "_LMLaxH1IRDo",
        "colab": {
          "base_uri": "https://localhost:8080/",
          "height": 545
        },
        "outputId": "136494bb-5aba-4673-ff2e-70df87da019a"
      },
      "source": [
        "# view baseline cnn results evaluate\n",
        "import matplotlib.pyplot as plt\n",
        "%matplotlib inline \n",
        "\n",
        "train_acc = adam_drop_history.history['acc']\n",
        "test_acc = adam_drop_history.history['val_acc']\n",
        "train_loss = adam_drop_history.history['loss']\n",
        "test_loss = adam_drop_history.history['val_loss']\n",
        "epochs = range(len(train_acc))\n",
        "plt.plot(epochs, train_acc, 'bo', label='Training acc')\n",
        "plt.plot(epochs, test_acc, 'b', label='Test acc')\n",
        "plt.title('Training and Testing accuracy')\n",
        "plt.legend()\n",
        "plt.figure()\n",
        "plt.plot(epochs, train_loss, 'bo', label='Training loss')\n",
        "plt.plot(epochs, test_loss, 'b', label='Test loss')\n",
        "plt.title('Training and Testing loss')\n",
        "plt.legend()\n",
        "plt.show()"
      ],
      "execution_count": 44,
      "outputs": [
        {
          "output_type": "display_data",
          "data": {
            "image/png": "[encoded data removed]",
            "text/plain": [
              "<Figure size 432x288 with 1 Axes>"
            ]
          },
          "metadata": {
            "tags": [],
            "needs_background": "light"
          }
        },
        {
          "output_type": "display_data",
          "data": {
            "image/png": "[encoded data removed]",
            "text/plain": [
              "<Figure size 432x288 with 1 Axes>"
            ]
          },
          "metadata": {
            "tags": [],
            "needs_background": "light"
          }
        }
      ]
    },
    {
      "cell_type": "markdown",
      "metadata": {
        "colab_type": "text",
        "id": "uwOuMkIjIRDt"
      },
      "source": [
        "### Visualize confusion matrix"
      ]
    },
    {
      "cell_type": "code",
      "metadata": {
        "colab_type": "code",
        "id": "CPvEVIcJIRDu",
        "colab": {
          "base_uri": "https://localhost:8080/",
          "height": 557
        },
        "outputId": "87581a8c-97f0-4928-a630-9d4f1448c4a9"
      },
      "source": [
        "import sklearn.metrics as metrics\n",
        "# from mod3 project\n",
        "def evaluate_model(y_test, y_pred,model_history=None):\n",
        "    \"\"\"Takes in your target, target predictions, model history.\n",
        "        Returns a metric report and confusion matrix.\"\"\"\n",
        "    \n",
        "    ## Classification Report / Scores \n",
        "    print(metrics.classification_report(y_test,y_pred))\n",
        "\n",
        "    # subplot for confusion matrix\n",
        "    fig, ax = plt.subplots(figsize=(12,6))\n",
        "    cm = metrics.confusion_matrix(y_test,y_pred)\n",
        "\n",
        "    plt.imshow(cm, interpolation='nearest', cmap='Blues')\n",
        "    plt.title('Confusion Matrix. 0=Norm, 1=Pneum')\n",
        "    plt.colorbar()\n",
        "    plt.ylabel('True label')\n",
        "    plt.xlabel('Predicted label')\n",
        "\n",
        "    classes = list(range(len(cm)))  \n",
        "    plt.xticks(classes, classes)\n",
        "    plt.yticks(classes, classes)\n",
        "\n",
        "\n",
        "    plt.show()\n",
        "\n",
        "y_preds = adam_drop_model.predict_classes(X_test).flatten()\n",
        "\n",
        "evaluate_model(y_test,y_preds,adam_drop_history)\n"
      ],
      "execution_count": 45,
      "outputs": [
        {
          "output_type": "stream",
          "text": [
            "              precision    recall  f1-score   support\n",
            "\n",
            "           0       0.96      0.66      0.78       234\n",
            "           1       0.83      0.98      0.90       390\n",
            "\n",
            "    accuracy                           0.86       624\n",
            "   macro avg       0.89      0.82      0.84       624\n",
            "weighted avg       0.88      0.86      0.85       624\n",
            "\n"
          ],
          "name": "stdout"
        },
        {
          "output_type": "display_data",
          "data": {
            "image/png": "[encoded data removed]",
            "text/plain": [
              "<Figure size 864x432 with 2 Axes>"
            ]
          },
          "metadata": {
            "tags": [],
            "needs_background": "light"
          }
        }
      ]
    },
    {
      "cell_type": "markdown",
      "metadata": {
        "colab_type": "text",
        "id": "pXGIHYgUIRDz"
      },
      "source": [
        "\n",
        "### Interpreting Results"
      ]
    },
    {
      "cell_type": "markdown",
      "metadata": {
        "colab_type": "text",
        "id": "iV1VruSQIRD0"
      },
      "source": [
        "My test accuracy is 88%. Loss is 62. Recall is 94%. Better than the previous version of adam. There seems to be overfitting when comparing training acc of 95% to test at 88%. Epoch 3 had best results. "
      ]
    },
    {
      "cell_type": "markdown",
      "metadata": {
        "colab_type": "text",
        "id": "jA3-6AkDIRD1"
      },
      "source": [
        "previous models\n",
        "- baseline sgd\n",
        "test accuracy at 84% and loss at 73%. sklearn also shows my accuracy at 84% with an excellent recall of 97% of pneumonia diagnosis.  \n",
        "- rmsprop\n",
        "test accuracy at 77% and loss at 607%. sklearn also shows my accuracy at 77% with an excellent recall of 99% of pneumonia diagnosis.  \n",
        "- adam\n",
        "test accuracy at 86% and loss at 210%. sklearn also shows my accuracy at 86% with a good recall of 99% of pneumonia diagnosis. "
      ]
    },
    {
      "cell_type": "markdown",
      "metadata": {
        "id": "VbTxXAMaqFmd",
        "colab_type": "text"
      },
      "source": [
        "## Conclusion Summary"
      ]
    },
    {
      "cell_type": "markdown",
      "metadata": {
        "id": "sWKnH7rpzc6u",
        "colab_type": "text"
      },
      "source": [
        "Based on this final model, it seems that the process was able to classify 94% of all pneumonia patients in the test set. More tuning for the future to try and get more of the patients properly classified. "
      ]
    },
    {
      "cell_type": "code",
      "metadata": {
        "id": "aP8oA0Drzsgh",
        "colab_type": "code",
        "colab": {}
      },
      "source": [
        ""
      ],
      "execution_count": null,
      "outputs": []
    }
  ]
}